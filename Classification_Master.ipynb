{
  "nbformat": 4,
  "nbformat_minor": 0,
  "metadata": {
    "colab": {
      "name": "Classification Master.ipynb",
      "version": "0.3.2",
      "views": {},
      "default_view": {},
      "provenance": []
    },
    "kernelspec": {
      "name": "python3",
      "display_name": "Python 3"
    }
  },
  "cells": [
    {
      "metadata": {
        "id": "vu9WaZ9pkIWD",
        "colab_type": "text"
      },
      "cell_type": "markdown",
      "source": [
        "### Import modules"
      ]
    },
    {
      "metadata": {
        "id": "e_Qx2mp4WwLA",
        "colab_type": "code",
        "colab": {
          "autoexec": {
            "startup": false,
            "wait_interval": 0
          }
        }
      },
      "cell_type": "code",
      "source": [
        "import pandas as pd\n",
        "import numpy as np\n",
        "import matplotlib.pyplot as plt\n",
        "import seaborn as sns\n",
        "import warnings\n",
        "from sklearn.preprocessing import LabelEncoder, StandardScaler, RobustScaler, Normalizer, OneHotEncoder\n",
        "from sklearn.feature_selection import SelectKBest, chi2, RFE\n",
        "from sklearn.decomposition import PCA\n",
        "from sklearn.model_selection import KFold, StratifiedKFold, cross_val_score, train_test_split, GridSearchCV\n",
        "from sklearn.linear_model import LogisticRegression\n",
        "from sklearn.discriminant_analysis import LinearDiscriminantAnalysis\n",
        "from sklearn.neighbors import KNeighborsClassifier\n",
        "from sklearn.tree import DecisionTreeClassifier\n",
        "from sklearn.naive_bayes import GaussianNB\n",
        "from sklearn.svm import SVC\n",
        "from sklearn.ensemble import AdaBoostClassifier, GradientBoostingClassifier,RandomForestClassifier,ExtraTreesClassifier\n",
        "from sklearn.metrics import accuracy_score, make_scorer, classification_report, confusion_matrix"
      ],
      "execution_count": 0,
      "outputs": []
    },
    {
      "metadata": {
        "id": "7VZADvAl4dHk",
        "colab_type": "code",
        "colab": {
          "autoexec": {
            "startup": false,
            "wait_interval": 0
          }
        }
      },
      "cell_type": "code",
      "source": [
        "rs = np.random.RandomState(130917)\n",
        "warnings.filterwarnings(\"ignore\")"
      ],
      "execution_count": 0,
      "outputs": []
    },
    {
      "metadata": {
        "id": "GV5dZcAkkQCy",
        "colab_type": "text"
      },
      "cell_type": "markdown",
      "source": [
        "### Import data and check shape of dataset"
      ]
    },
    {
      "metadata": {
        "id": "HS5eBT66jePE",
        "colab_type": "code",
        "colab": {
          "autoexec": {
            "startup": false,
            "wait_interval": 0
          },
          "output_extras": [
            {
              "item_id": 1
            }
          ],
          "base_uri": "https://localhost:8080/",
          "height": 34
        },
        "outputId": "cd6789a2-46d4-4675-f1d5-2b9389e8a8ba",
        "executionInfo": {
          "status": "ok",
          "timestamp": 1522914458999,
          "user_tz": -330,
          "elapsed": 1308,
          "user": {
            "displayName": "Gaurav Sharma",
            "photoUrl": "//lh3.googleusercontent.com/-RxTlaEjP3Ek/AAAAAAAAAAI/AAAAAAAABDI/ssrDBNDHUcs/s50-c-k-no/photo.jpg",
            "userId": "112710572013370038539"
          }
        }
      },
      "cell_type": "code",
      "source": [
        "df = pd.read_csv('https://archive.ics.uci.edu/ml/machine-learning-databases/iris/iris.data', header=None)\n",
        "df.shape"
      ],
      "execution_count": 94,
      "outputs": [
        {
          "output_type": "execute_result",
          "data": {
            "text/plain": [
              "(150, 5)"
            ]
          },
          "metadata": {
            "tags": []
          },
          "execution_count": 94
        }
      ]
    },
    {
      "metadata": {
        "id": "YvEg8376kVGR",
        "colab_type": "text"
      },
      "cell_type": "markdown",
      "source": [
        "### Explore header rows of dataset"
      ]
    },
    {
      "metadata": {
        "id": "vgW0cjUPj3tl",
        "colab_type": "code",
        "colab": {
          "autoexec": {
            "startup": false,
            "wait_interval": 0
          },
          "output_extras": [
            {
              "item_id": 1
            }
          ],
          "base_uri": "https://localhost:8080/",
          "height": 204
        },
        "outputId": "7a32f024-bc0a-420b-fbf1-6c1004a11f0f",
        "executionInfo": {
          "status": "ok",
          "timestamp": 1522914460486,
          "user_tz": -330,
          "elapsed": 1027,
          "user": {
            "displayName": "Gaurav Sharma",
            "photoUrl": "//lh3.googleusercontent.com/-RxTlaEjP3Ek/AAAAAAAAAAI/AAAAAAAABDI/ssrDBNDHUcs/s50-c-k-no/photo.jpg",
            "userId": "112710572013370038539"
          }
        }
      },
      "cell_type": "code",
      "source": [
        "df.head()"
      ],
      "execution_count": 95,
      "outputs": [
        {
          "output_type": "execute_result",
          "data": {
            "text/html": [
              "<div>\n",
              "<style scoped>\n",
              "    .dataframe tbody tr th:only-of-type {\n",
              "        vertical-align: middle;\n",
              "    }\n",
              "\n",
              "    .dataframe tbody tr th {\n",
              "        vertical-align: top;\n",
              "    }\n",
              "\n",
              "    .dataframe thead th {\n",
              "        text-align: right;\n",
              "    }\n",
              "</style>\n",
              "<table border=\"1\" class=\"dataframe\">\n",
              "  <thead>\n",
              "    <tr style=\"text-align: right;\">\n",
              "      <th></th>\n",
              "      <th>0</th>\n",
              "      <th>1</th>\n",
              "      <th>2</th>\n",
              "      <th>3</th>\n",
              "      <th>4</th>\n",
              "    </tr>\n",
              "  </thead>\n",
              "  <tbody>\n",
              "    <tr>\n",
              "      <th>0</th>\n",
              "      <td>5.1</td>\n",
              "      <td>3.5</td>\n",
              "      <td>1.4</td>\n",
              "      <td>0.2</td>\n",
              "      <td>Iris-setosa</td>\n",
              "    </tr>\n",
              "    <tr>\n",
              "      <th>1</th>\n",
              "      <td>4.9</td>\n",
              "      <td>3.0</td>\n",
              "      <td>1.4</td>\n",
              "      <td>0.2</td>\n",
              "      <td>Iris-setosa</td>\n",
              "    </tr>\n",
              "    <tr>\n",
              "      <th>2</th>\n",
              "      <td>4.7</td>\n",
              "      <td>3.2</td>\n",
              "      <td>1.3</td>\n",
              "      <td>0.2</td>\n",
              "      <td>Iris-setosa</td>\n",
              "    </tr>\n",
              "    <tr>\n",
              "      <th>3</th>\n",
              "      <td>4.6</td>\n",
              "      <td>3.1</td>\n",
              "      <td>1.5</td>\n",
              "      <td>0.2</td>\n",
              "      <td>Iris-setosa</td>\n",
              "    </tr>\n",
              "    <tr>\n",
              "      <th>4</th>\n",
              "      <td>5.0</td>\n",
              "      <td>3.6</td>\n",
              "      <td>1.4</td>\n",
              "      <td>0.2</td>\n",
              "      <td>Iris-setosa</td>\n",
              "    </tr>\n",
              "  </tbody>\n",
              "</table>\n",
              "</div>"
            ],
            "text/plain": [
              "     0    1    2    3            4\n",
              "0  5.1  3.5  1.4  0.2  Iris-setosa\n",
              "1  4.9  3.0  1.4  0.2  Iris-setosa\n",
              "2  4.7  3.2  1.3  0.2  Iris-setosa\n",
              "3  4.6  3.1  1.5  0.2  Iris-setosa\n",
              "4  5.0  3.6  1.4  0.2  Iris-setosa"
            ]
          },
          "metadata": {
            "tags": []
          },
          "execution_count": 95
        }
      ]
    },
    {
      "metadata": {
        "id": "xLQ_FBxPkdQd",
        "colab_type": "text"
      },
      "cell_type": "markdown",
      "source": [
        "### Set header if not set"
      ]
    },
    {
      "metadata": {
        "id": "gT5h58b4j5Ml",
        "colab_type": "code",
        "colab": {
          "autoexec": {
            "startup": false,
            "wait_interval": 0
          },
          "output_extras": [
            {
              "item_id": 1
            }
          ],
          "base_uri": "https://localhost:8080/",
          "height": 204
        },
        "outputId": "0da1f55f-8292-4cc0-c1e8-6a05e3cfcc83",
        "executionInfo": {
          "status": "ok",
          "timestamp": 1522914461862,
          "user_tz": -330,
          "elapsed": 851,
          "user": {
            "displayName": "Gaurav Sharma",
            "photoUrl": "//lh3.googleusercontent.com/-RxTlaEjP3Ek/AAAAAAAAAAI/AAAAAAAABDI/ssrDBNDHUcs/s50-c-k-no/photo.jpg",
            "userId": "112710572013370038539"
          }
        }
      },
      "cell_type": "code",
      "source": [
        "df.columns = ['sepal-length', 'sepal-width', 'petal-length', 'petal-width', 'class']\n",
        "df.head()"
      ],
      "execution_count": 96,
      "outputs": [
        {
          "output_type": "execute_result",
          "data": {
            "text/html": [
              "<div>\n",
              "<style scoped>\n",
              "    .dataframe tbody tr th:only-of-type {\n",
              "        vertical-align: middle;\n",
              "    }\n",
              "\n",
              "    .dataframe tbody tr th {\n",
              "        vertical-align: top;\n",
              "    }\n",
              "\n",
              "    .dataframe thead th {\n",
              "        text-align: right;\n",
              "    }\n",
              "</style>\n",
              "<table border=\"1\" class=\"dataframe\">\n",
              "  <thead>\n",
              "    <tr style=\"text-align: right;\">\n",
              "      <th></th>\n",
              "      <th>sepal-length</th>\n",
              "      <th>sepal-width</th>\n",
              "      <th>petal-length</th>\n",
              "      <th>petal-width</th>\n",
              "      <th>class</th>\n",
              "    </tr>\n",
              "  </thead>\n",
              "  <tbody>\n",
              "    <tr>\n",
              "      <th>0</th>\n",
              "      <td>5.1</td>\n",
              "      <td>3.5</td>\n",
              "      <td>1.4</td>\n",
              "      <td>0.2</td>\n",
              "      <td>Iris-setosa</td>\n",
              "    </tr>\n",
              "    <tr>\n",
              "      <th>1</th>\n",
              "      <td>4.9</td>\n",
              "      <td>3.0</td>\n",
              "      <td>1.4</td>\n",
              "      <td>0.2</td>\n",
              "      <td>Iris-setosa</td>\n",
              "    </tr>\n",
              "    <tr>\n",
              "      <th>2</th>\n",
              "      <td>4.7</td>\n",
              "      <td>3.2</td>\n",
              "      <td>1.3</td>\n",
              "      <td>0.2</td>\n",
              "      <td>Iris-setosa</td>\n",
              "    </tr>\n",
              "    <tr>\n",
              "      <th>3</th>\n",
              "      <td>4.6</td>\n",
              "      <td>3.1</td>\n",
              "      <td>1.5</td>\n",
              "      <td>0.2</td>\n",
              "      <td>Iris-setosa</td>\n",
              "    </tr>\n",
              "    <tr>\n",
              "      <th>4</th>\n",
              "      <td>5.0</td>\n",
              "      <td>3.6</td>\n",
              "      <td>1.4</td>\n",
              "      <td>0.2</td>\n",
              "      <td>Iris-setosa</td>\n",
              "    </tr>\n",
              "  </tbody>\n",
              "</table>\n",
              "</div>"
            ],
            "text/plain": [
              "   sepal-length  sepal-width  petal-length  petal-width        class\n",
              "0           5.1          3.5           1.4          0.2  Iris-setosa\n",
              "1           4.9          3.0           1.4          0.2  Iris-setosa\n",
              "2           4.7          3.2           1.3          0.2  Iris-setosa\n",
              "3           4.6          3.1           1.5          0.2  Iris-setosa\n",
              "4           5.0          3.6           1.4          0.2  Iris-setosa"
            ]
          },
          "metadata": {
            "tags": []
          },
          "execution_count": 96
        }
      ]
    },
    {
      "metadata": {
        "id": "xKohyKqklfvq",
        "colab_type": "text"
      },
      "cell_type": "markdown",
      "source": [
        "### Explore numerical features"
      ]
    },
    {
      "metadata": {
        "id": "zvg8WnyDlGnE",
        "colab_type": "code",
        "colab": {
          "autoexec": {
            "startup": false,
            "wait_interval": 0
          },
          "output_extras": [
            {
              "item_id": 1
            }
          ],
          "base_uri": "https://localhost:8080/",
          "height": 10
        },
        "outputId": "5d4376c3-2b72-4aa5-8b46-104fa55ccb4d",
        "executionInfo": {
          "status": "ok",
          "timestamp": 1522914463174,
          "user_tz": -330,
          "elapsed": 780,
          "user": {
            "displayName": "Gaurav Sharma",
            "photoUrl": "//lh3.googleusercontent.com/-RxTlaEjP3Ek/AAAAAAAAAAI/AAAAAAAABDI/ssrDBNDHUcs/s50-c-k-no/photo.jpg",
            "userId": "112710572013370038539"
          }
        }
      },
      "cell_type": "code",
      "source": [
        "df.describe()"
      ],
      "execution_count": 97,
      "outputs": [
        {
          "output_type": "execute_result",
          "data": {
            "text/html": [
              "<div>\n",
              "<style scoped>\n",
              "    .dataframe tbody tr th:only-of-type {\n",
              "        vertical-align: middle;\n",
              "    }\n",
              "\n",
              "    .dataframe tbody tr th {\n",
              "        vertical-align: top;\n",
              "    }\n",
              "\n",
              "    .dataframe thead th {\n",
              "        text-align: right;\n",
              "    }\n",
              "</style>\n",
              "<table border=\"1\" class=\"dataframe\">\n",
              "  <thead>\n",
              "    <tr style=\"text-align: right;\">\n",
              "      <th></th>\n",
              "      <th>sepal-length</th>\n",
              "      <th>sepal-width</th>\n",
              "      <th>petal-length</th>\n",
              "      <th>petal-width</th>\n",
              "    </tr>\n",
              "  </thead>\n",
              "  <tbody>\n",
              "    <tr>\n",
              "      <th>count</th>\n",
              "      <td>150.000000</td>\n",
              "      <td>150.000000</td>\n",
              "      <td>150.000000</td>\n",
              "      <td>150.000000</td>\n",
              "    </tr>\n",
              "    <tr>\n",
              "      <th>mean</th>\n",
              "      <td>5.843333</td>\n",
              "      <td>3.054000</td>\n",
              "      <td>3.758667</td>\n",
              "      <td>1.198667</td>\n",
              "    </tr>\n",
              "    <tr>\n",
              "      <th>std</th>\n",
              "      <td>0.828066</td>\n",
              "      <td>0.433594</td>\n",
              "      <td>1.764420</td>\n",
              "      <td>0.763161</td>\n",
              "    </tr>\n",
              "    <tr>\n",
              "      <th>min</th>\n",
              "      <td>4.300000</td>\n",
              "      <td>2.000000</td>\n",
              "      <td>1.000000</td>\n",
              "      <td>0.100000</td>\n",
              "    </tr>\n",
              "    <tr>\n",
              "      <th>25%</th>\n",
              "      <td>5.100000</td>\n",
              "      <td>2.800000</td>\n",
              "      <td>1.600000</td>\n",
              "      <td>0.300000</td>\n",
              "    </tr>\n",
              "    <tr>\n",
              "      <th>50%</th>\n",
              "      <td>5.800000</td>\n",
              "      <td>3.000000</td>\n",
              "      <td>4.350000</td>\n",
              "      <td>1.300000</td>\n",
              "    </tr>\n",
              "    <tr>\n",
              "      <th>75%</th>\n",
              "      <td>6.400000</td>\n",
              "      <td>3.300000</td>\n",
              "      <td>5.100000</td>\n",
              "      <td>1.800000</td>\n",
              "    </tr>\n",
              "    <tr>\n",
              "      <th>max</th>\n",
              "      <td>7.900000</td>\n",
              "      <td>4.400000</td>\n",
              "      <td>6.900000</td>\n",
              "      <td>2.500000</td>\n",
              "    </tr>\n",
              "  </tbody>\n",
              "</table>\n",
              "</div>"
            ],
            "text/plain": [
              "       sepal-length  sepal-width  petal-length  petal-width\n",
              "count    150.000000   150.000000    150.000000   150.000000\n",
              "mean       5.843333     3.054000      3.758667     1.198667\n",
              "std        0.828066     0.433594      1.764420     0.763161\n",
              "min        4.300000     2.000000      1.000000     0.100000\n",
              "25%        5.100000     2.800000      1.600000     0.300000\n",
              "50%        5.800000     3.000000      4.350000     1.300000\n",
              "75%        6.400000     3.300000      5.100000     1.800000\n",
              "max        7.900000     4.400000      6.900000     2.500000"
            ]
          },
          "metadata": {
            "tags": []
          },
          "execution_count": 97
        }
      ]
    },
    {
      "metadata": {
        "id": "DqeBOf6JmeuL",
        "colab_type": "code",
        "colab": {
          "autoexec": {
            "startup": false,
            "wait_interval": 0
          },
          "output_extras": [
            {
              "item_id": 1
            },
            {
              "item_id": 2
            }
          ],
          "base_uri": "https://localhost:8080/",
          "height": 10
        },
        "outputId": "6bc1edeb-a719-4c7e-971e-19042dc7f074",
        "executionInfo": {
          "status": "ok",
          "timestamp": 1522914464379,
          "user_tz": -330,
          "elapsed": 792,
          "user": {
            "displayName": "Gaurav Sharma",
            "photoUrl": "//lh3.googleusercontent.com/-RxTlaEjP3Ek/AAAAAAAAAAI/AAAAAAAABDI/ssrDBNDHUcs/s50-c-k-no/photo.jpg",
            "userId": "112710572013370038539"
          }
        }
      },
      "cell_type": "code",
      "source": [
        "sns.boxplot(data=df)\n",
        "plt.show()"
      ],
      "execution_count": 98,
      "outputs": [
        {
          "output_type": "stream",
          "text": [
            "/usr/local/lib/python3.6/dist-packages/seaborn/categorical.py:454: FutureWarning: remove_na is deprecated and is a private function. Do not use.\n",
            "  box_data = remove_na(group_data)\n"
          ],
          "name": "stderr"
        },
        {
          "output_type": "display_data",
          "data": {
            "image/png": "[encoded data removed]",
            "text/plain": [
              "<matplotlib.figure.Figure at 0x7f63e7731f98>"
            ]
          },
          "metadata": {
            "tags": []
          }
        }
      ]
    },
    {
      "metadata": {
        "id": "NhE63sRimopU",
        "colab_type": "code",
        "colab": {
          "autoexec": {
            "startup": false,
            "wait_interval": 0
          },
          "output_extras": [
            {
              "item_id": 1
            }
          ],
          "base_uri": "https://localhost:8080/",
          "height": 10
        },
        "outputId": "6b44def3-738f-40d1-86a2-dfb80759e92a",
        "executionInfo": {
          "status": "ok",
          "timestamp": 1522914466471,
          "user_tz": -330,
          "elapsed": 1764,
          "user": {
            "displayName": "Gaurav Sharma",
            "photoUrl": "//lh3.googleusercontent.com/-RxTlaEjP3Ek/AAAAAAAAAAI/AAAAAAAABDI/ssrDBNDHUcs/s50-c-k-no/photo.jpg",
            "userId": "112710572013370038539"
          }
        }
      },
      "cell_type": "code",
      "source": [
        "fig, axarr = plt.subplots(2, 2, figsize=(10, 10))\n",
        "sns.distplot(df['sepal-length'], kde=True, ax=axarr[0,0])\n",
        "sns.distplot(df['sepal-width'], kde=True, ax=axarr[0,1])\n",
        "sns.distplot(df['petal-length'], kde=True, ax=axarr[1,0])\n",
        "sns.distplot(df['petal-width'], kde=True, ax=axarr[1,1])\n",
        "axarr[0,0].set_title(\"sepal-length\")\n",
        "axarr[0,1].set_title(\"sepal-width\")\n",
        "axarr[1,0].set_title(\"petal-length\")\n",
        "axarr[1,1].set_title(\"petal-width\")\n",
        "plt.show()"
      ],
      "execution_count": 99,
      "outputs": [
        {
          "output_type": "display_data",
          "data": {
            "image/png": "[encoded data removed]",
            "text/plain": [
              "<matplotlib.figure.Figure at 0x7f63e94a8208>"
            ]
          },
          "metadata": {
            "tags": []
          }
        }
      ]
    },
    {
      "metadata": {
        "id": "7hewOOHcqOec",
        "colab_type": "code",
        "colab": {
          "autoexec": {
            "startup": false,
            "wait_interval": 0
          },
          "output_extras": [
            {
              "item_id": 1
            }
          ],
          "base_uri": "https://localhost:8080/",
          "height": 10
        },
        "outputId": "4810352c-7909-45b9-f874-350858539fcc",
        "executionInfo": {
          "status": "ok",
          "timestamp": 1522914474994,
          "user_tz": -330,
          "elapsed": 7951,
          "user": {
            "displayName": "Gaurav Sharma",
            "photoUrl": "//lh3.googleusercontent.com/-RxTlaEjP3Ek/AAAAAAAAAAI/AAAAAAAABDI/ssrDBNDHUcs/s50-c-k-no/photo.jpg",
            "userId": "112710572013370038539"
          }
        }
      },
      "cell_type": "code",
      "source": [
        "sns.pairplot(data=df, hue='class')\n",
        "plt.show()"
      ],
      "execution_count": 100,
      "outputs": [
        {
          "output_type": "display_data",
          "data": {
            "image/png": "[encoded data removed]",
            "text/plain": [
              "<matplotlib.figure.Figure at 0x7f63e9d480b8>"
            ]
          },
          "metadata": {
            "tags": []
          }
        }
      ]
    },
    {
      "metadata": {
        "id": "A8qWJBeWlywV",
        "colab_type": "text"
      },
      "cell_type": "markdown",
      "source": [
        "### Explore target variable"
      ]
    },
    {
      "metadata": {
        "id": "gvLW4FHtlp9T",
        "colab_type": "code",
        "colab": {
          "autoexec": {
            "startup": false,
            "wait_interval": 0
          },
          "output_extras": [
            {
              "item_id": 1
            },
            {
              "item_id": 2
            }
          ],
          "base_uri": "https://localhost:8080/",
          "height": 102
        },
        "outputId": "fd7d361f-3cfe-44b6-afb5-627d1de88ad5",
        "executionInfo": {
          "status": "ok",
          "timestamp": 1522914476337,
          "user_tz": -330,
          "elapsed": 1241,
          "user": {
            "displayName": "Gaurav Sharma",
            "photoUrl": "//lh3.googleusercontent.com/-RxTlaEjP3Ek/AAAAAAAAAAI/AAAAAAAABDI/ssrDBNDHUcs/s50-c-k-no/photo.jpg",
            "userId": "112710572013370038539"
          }
        }
      },
      "cell_type": "code",
      "source": [
        "print(df['class'].nunique())\n",
        "df['class'].value_counts()"
      ],
      "execution_count": 101,
      "outputs": [
        {
          "output_type": "stream",
          "text": [
            "3\n"
          ],
          "name": "stdout"
        },
        {
          "output_type": "execute_result",
          "data": {
            "text/plain": [
              "Iris-versicolor    50\n",
              "Iris-setosa        50\n",
              "Iris-virginica     50\n",
              "Name: class, dtype: int64"
            ]
          },
          "metadata": {
            "tags": []
          },
          "execution_count": 101
        }
      ]
    },
    {
      "metadata": {
        "id": "jjKyq0MGsRrr",
        "colab_type": "code",
        "colab": {
          "autoexec": {
            "startup": false,
            "wait_interval": 0
          },
          "output_extras": [
            {
              "item_id": 1
            }
          ],
          "base_uri": "https://localhost:8080/",
          "height": 85
        },
        "outputId": "fae0c472-9ee7-4d44-b8d7-dd440ecc9f4d",
        "executionInfo": {
          "status": "ok",
          "timestamp": 1522914477637,
          "user_tz": -330,
          "elapsed": 814,
          "user": {
            "displayName": "Gaurav Sharma",
            "photoUrl": "//lh3.googleusercontent.com/-RxTlaEjP3Ek/AAAAAAAAAAI/AAAAAAAABDI/ssrDBNDHUcs/s50-c-k-no/photo.jpg",
            "userId": "112710572013370038539"
          }
        }
      },
      "cell_type": "code",
      "source": [
        "# lets encode the target variable\n",
        "df['class'] = LabelEncoder().fit(df['class']).transform(df['class'])\n",
        "df['class'].value_counts()"
      ],
      "execution_count": 102,
      "outputs": [
        {
          "output_type": "execute_result",
          "data": {
            "text/plain": [
              "2    50\n",
              "1    50\n",
              "0    50\n",
              "Name: class, dtype: int64"
            ]
          },
          "metadata": {
            "tags": []
          },
          "execution_count": 102
        }
      ]
    },
    {
      "metadata": {
        "id": "o5ykGMkYqiHa",
        "colab_type": "text"
      },
      "cell_type": "markdown",
      "source": [
        "### Handle missing values"
      ]
    },
    {
      "metadata": {
        "id": "5tMEaK-_mOjp",
        "colab_type": "code",
        "colab": {
          "autoexec": {
            "startup": false,
            "wait_interval": 0
          },
          "output_extras": [
            {
              "item_id": 1
            }
          ],
          "base_uri": "https://localhost:8080/",
          "height": 119
        },
        "outputId": "e7240c35-5479-4e96-ffe4-7cb478da0563",
        "executionInfo": {
          "status": "ok",
          "timestamp": 1522914479041,
          "user_tz": -330,
          "elapsed": 803,
          "user": {
            "displayName": "Gaurav Sharma",
            "photoUrl": "//lh3.googleusercontent.com/-RxTlaEjP3Ek/AAAAAAAAAAI/AAAAAAAABDI/ssrDBNDHUcs/s50-c-k-no/photo.jpg",
            "userId": "112710572013370038539"
          }
        }
      },
      "cell_type": "code",
      "source": [
        "# count of null rows\n",
        "df.isnull().sum()"
      ],
      "execution_count": 103,
      "outputs": [
        {
          "output_type": "execute_result",
          "data": {
            "text/plain": [
              "sepal-length    0\n",
              "sepal-width     0\n",
              "petal-length    0\n",
              "petal-width     0\n",
              "class           0\n",
              "dtype: int64"
            ]
          },
          "metadata": {
            "tags": []
          },
          "execution_count": 103
        }
      ]
    },
    {
      "metadata": {
        "id": "GmTM38mqqwze",
        "colab_type": "code",
        "colab": {
          "autoexec": {
            "startup": false,
            "wait_interval": 0
          },
          "output_extras": [
            {
              "item_id": 1
            }
          ],
          "base_uri": "https://localhost:8080/",
          "height": 119
        },
        "outputId": "2c680261-0d79-4a1d-c427-51a392179731",
        "executionInfo": {
          "status": "ok",
          "timestamp": 1522914480350,
          "user_tz": -330,
          "elapsed": 811,
          "user": {
            "displayName": "Gaurav Sharma",
            "photoUrl": "//lh3.googleusercontent.com/-RxTlaEjP3Ek/AAAAAAAAAAI/AAAAAAAABDI/ssrDBNDHUcs/s50-c-k-no/photo.jpg",
            "userId": "112710572013370038539"
          }
        }
      },
      "cell_type": "code",
      "source": [
        "# count of non null rows\n",
        "df.isnull().count()"
      ],
      "execution_count": 104,
      "outputs": [
        {
          "output_type": "execute_result",
          "data": {
            "text/plain": [
              "sepal-length    150\n",
              "sepal-width     150\n",
              "petal-length    150\n",
              "petal-width     150\n",
              "class           150\n",
              "dtype: int64"
            ]
          },
          "metadata": {
            "tags": []
          },
          "execution_count": 104
        }
      ]
    },
    {
      "metadata": {
        "id": "MIjNz1mPrQkB",
        "colab_type": "text"
      },
      "cell_type": "markdown",
      "source": [
        "### Handle highly correlated features"
      ]
    },
    {
      "metadata": {
        "id": "wpB9auofreA8",
        "colab_type": "code",
        "colab": {
          "autoexec": {
            "startup": false,
            "wait_interval": 0
          },
          "output_extras": [
            {
              "item_id": 1
            }
          ],
          "base_uri": "https://localhost:8080/",
          "height": 204
        },
        "outputId": "242d14f7-25f1-4564-f450-3d2a81e20a83",
        "executionInfo": {
          "status": "ok",
          "timestamp": 1522914481768,
          "user_tz": -330,
          "elapsed": 870,
          "user": {
            "displayName": "Gaurav Sharma",
            "photoUrl": "//lh3.googleusercontent.com/-RxTlaEjP3Ek/AAAAAAAAAAI/AAAAAAAABDI/ssrDBNDHUcs/s50-c-k-no/photo.jpg",
            "userId": "112710572013370038539"
          }
        }
      },
      "cell_type": "code",
      "source": [
        "df.corr()"
      ],
      "execution_count": 105,
      "outputs": [
        {
          "output_type": "execute_result",
          "data": {
            "text/html": [
              "<div>\n",
              "<style scoped>\n",
              "    .dataframe tbody tr th:only-of-type {\n",
              "        vertical-align: middle;\n",
              "    }\n",
              "\n",
              "    .dataframe tbody tr th {\n",
              "        vertical-align: top;\n",
              "    }\n",
              "\n",
              "    .dataframe thead th {\n",
              "        text-align: right;\n",
              "    }\n",
              "</style>\n",
              "<table border=\"1\" class=\"dataframe\">\n",
              "  <thead>\n",
              "    <tr style=\"text-align: right;\">\n",
              "      <th></th>\n",
              "      <th>sepal-length</th>\n",
              "      <th>sepal-width</th>\n",
              "      <th>petal-length</th>\n",
              "      <th>petal-width</th>\n",
              "      <th>class</th>\n",
              "    </tr>\n",
              "  </thead>\n",
              "  <tbody>\n",
              "    <tr>\n",
              "      <th>sepal-length</th>\n",
              "      <td>1.000000</td>\n",
              "      <td>-0.109369</td>\n",
              "      <td>0.871754</td>\n",
              "      <td>0.817954</td>\n",
              "      <td>0.782561</td>\n",
              "    </tr>\n",
              "    <tr>\n",
              "      <th>sepal-width</th>\n",
              "      <td>-0.109369</td>\n",
              "      <td>1.000000</td>\n",
              "      <td>-0.420516</td>\n",
              "      <td>-0.356544</td>\n",
              "      <td>-0.419446</td>\n",
              "    </tr>\n",
              "    <tr>\n",
              "      <th>petal-length</th>\n",
              "      <td>0.871754</td>\n",
              "      <td>-0.420516</td>\n",
              "      <td>1.000000</td>\n",
              "      <td>0.962757</td>\n",
              "      <td>0.949043</td>\n",
              "    </tr>\n",
              "    <tr>\n",
              "      <th>petal-width</th>\n",
              "      <td>0.817954</td>\n",
              "      <td>-0.356544</td>\n",
              "      <td>0.962757</td>\n",
              "      <td>1.000000</td>\n",
              "      <td>0.956464</td>\n",
              "    </tr>\n",
              "    <tr>\n",
              "      <th>class</th>\n",
              "      <td>0.782561</td>\n",
              "      <td>-0.419446</td>\n",
              "      <td>0.949043</td>\n",
              "      <td>0.956464</td>\n",
              "      <td>1.000000</td>\n",
              "    </tr>\n",
              "  </tbody>\n",
              "</table>\n",
              "</div>"
            ],
            "text/plain": [
              "              sepal-length  sepal-width  petal-length  petal-width     class\n",
              "sepal-length      1.000000    -0.109369      0.871754     0.817954  0.782561\n",
              "sepal-width      -0.109369     1.000000     -0.420516    -0.356544 -0.419446\n",
              "petal-length      0.871754    -0.420516      1.000000     0.962757  0.949043\n",
              "petal-width       0.817954    -0.356544      0.962757     1.000000  0.956464\n",
              "class             0.782561    -0.419446      0.949043     0.956464  1.000000"
            ]
          },
          "metadata": {
            "tags": []
          },
          "execution_count": 105
        }
      ]
    },
    {
      "metadata": {
        "id": "qgLCSvCErO_Y",
        "colab_type": "code",
        "colab": {
          "autoexec": {
            "startup": false,
            "wait_interval": 0
          },
          "output_extras": [
            {
              "item_id": 1
            }
          ],
          "base_uri": "https://localhost:8080/",
          "height": 347
        },
        "outputId": "eb467433-9281-4f55-caea-ac9470d41682",
        "executionInfo": {
          "status": "ok",
          "timestamp": 1522914483712,
          "user_tz": -330,
          "elapsed": 1395,
          "user": {
            "displayName": "Gaurav Sharma",
            "photoUrl": "//lh3.googleusercontent.com/-RxTlaEjP3Ek/AAAAAAAAAAI/AAAAAAAABDI/ssrDBNDHUcs/s50-c-k-no/photo.jpg",
            "userId": "112710572013370038539"
          }
        }
      },
      "cell_type": "code",
      "source": [
        "sns.heatmap(df.corr())\n",
        "plt.show()"
      ],
      "execution_count": 106,
      "outputs": [
        {
          "output_type": "display_data",
          "data": {
            "image/png": "[encoded data removed]",
            "text/plain": [
              "<matplotlib.figure.Figure at 0x7f63e9d967b8>"
            ]
          },
          "metadata": {
            "tags": []
          }
        }
      ]
    },
    {
      "metadata": {
        "id": "49zkzDEJuZIr",
        "colab_type": "text"
      },
      "cell_type": "markdown",
      "source": [
        "### Create new features if required"
      ]
    },
    {
      "metadata": {
        "id": "e1ishT2Uqy-_",
        "colab_type": "code",
        "colab": {
          "autoexec": {
            "startup": false,
            "wait_interval": 0
          }
        }
      },
      "cell_type": "code",
      "source": [
        "# no such features required for this dataset"
      ],
      "execution_count": 0,
      "outputs": []
    },
    {
      "metadata": {
        "id": "J2g-lmc8uhVF",
        "colab_type": "text"
      },
      "cell_type": "markdown",
      "source": [
        "### Create dataframes of continuous and categorical features"
      ]
    },
    {
      "metadata": {
        "id": "Mk2xCylfufyO",
        "colab_type": "code",
        "colab": {
          "autoexec": {
            "startup": false,
            "wait_interval": 0
          }
        }
      },
      "cell_type": "code",
      "source": [
        "cat_columns = ['sepal-length', 'sepal-width', 'petal-length', 'petal-width']\n",
        "# cont_columns = none available for this dataset\n",
        "df_cont = df[cat_columns]\n",
        "df_y = df['class']"
      ],
      "execution_count": 0,
      "outputs": []
    },
    {
      "metadata": {
        "id": "PcBTERnwvQwz",
        "colab_type": "text"
      },
      "cell_type": "markdown",
      "source": [
        "### Move target column to end of dataframe"
      ]
    },
    {
      "metadata": {
        "id": "J7P-lFRtvR1E",
        "colab_type": "code",
        "colab": {
          "autoexec": {
            "startup": false,
            "wait_interval": 0
          }
        }
      },
      "cell_type": "code",
      "source": [
        "#cols = list(df_dummies.columns.values) #Make a list of all of the columns in the df\n",
        "#cols.pop(cols.index('targ')) #Remove b from list\n",
        "#df_dummies_1 = df_dummies[cols+['targ']]"
      ],
      "execution_count": 0,
      "outputs": []
    },
    {
      "metadata": {
        "id": "AEU46XA0vakc",
        "colab_type": "text"
      },
      "cell_type": "markdown",
      "source": [
        "### Rescale dataframe of continuous features"
      ]
    },
    {
      "metadata": {
        "id": "jxWXjXdGvY6p",
        "colab_type": "code",
        "colab": {
          "autoexec": {
            "startup": false,
            "wait_interval": 0
          },
          "output_extras": [
            {
              "item_id": 1
            }
          ],
          "base_uri": "https://localhost:8080/",
          "height": 204
        },
        "outputId": "8ff40905-59f6-41c7-fe6d-23c199f89bf8",
        "executionInfo": {
          "status": "ok",
          "timestamp": 1522914488878,
          "user_tz": -330,
          "elapsed": 779,
          "user": {
            "displayName": "Gaurav Sharma",
            "photoUrl": "//lh3.googleusercontent.com/-RxTlaEjP3Ek/AAAAAAAAAAI/AAAAAAAABDI/ssrDBNDHUcs/s50-c-k-no/photo.jpg",
            "userId": "112710572013370038539"
          }
        }
      },
      "cell_type": "code",
      "source": [
        "df_cont_rescaled = pd.DataFrame(StandardScaler().fit(df_cont).transform(df_cont))\n",
        "df_cont_rescaled.columns = ['sepal-length', 'sepal-width', 'petal-length', 'petal-width']\n",
        "df_cont_rescaled.head()"
      ],
      "execution_count": 110,
      "outputs": [
        {
          "output_type": "execute_result",
          "data": {
            "text/html": [
              "<div>\n",
              "<style scoped>\n",
              "    .dataframe tbody tr th:only-of-type {\n",
              "        vertical-align: middle;\n",
              "    }\n",
              "\n",
              "    .dataframe tbody tr th {\n",
              "        vertical-align: top;\n",
              "    }\n",
              "\n",
              "    .dataframe thead th {\n",
              "        text-align: right;\n",
              "    }\n",
              "</style>\n",
              "<table border=\"1\" class=\"dataframe\">\n",
              "  <thead>\n",
              "    <tr style=\"text-align: right;\">\n",
              "      <th></th>\n",
              "      <th>sepal-length</th>\n",
              "      <th>sepal-width</th>\n",
              "      <th>petal-length</th>\n",
              "      <th>petal-width</th>\n",
              "    </tr>\n",
              "  </thead>\n",
              "  <tbody>\n",
              "    <tr>\n",
              "      <th>0</th>\n",
              "      <td>-0.900681</td>\n",
              "      <td>1.032057</td>\n",
              "      <td>-1.341272</td>\n",
              "      <td>-1.312977</td>\n",
              "    </tr>\n",
              "    <tr>\n",
              "      <th>1</th>\n",
              "      <td>-1.143017</td>\n",
              "      <td>-0.124958</td>\n",
              "      <td>-1.341272</td>\n",
              "      <td>-1.312977</td>\n",
              "    </tr>\n",
              "    <tr>\n",
              "      <th>2</th>\n",
              "      <td>-1.385353</td>\n",
              "      <td>0.337848</td>\n",
              "      <td>-1.398138</td>\n",
              "      <td>-1.312977</td>\n",
              "    </tr>\n",
              "    <tr>\n",
              "      <th>3</th>\n",
              "      <td>-1.506521</td>\n",
              "      <td>0.106445</td>\n",
              "      <td>-1.284407</td>\n",
              "      <td>-1.312977</td>\n",
              "    </tr>\n",
              "    <tr>\n",
              "      <th>4</th>\n",
              "      <td>-1.021849</td>\n",
              "      <td>1.263460</td>\n",
              "      <td>-1.341272</td>\n",
              "      <td>-1.312977</td>\n",
              "    </tr>\n",
              "  </tbody>\n",
              "</table>\n",
              "</div>"
            ],
            "text/plain": [
              "   sepal-length  sepal-width  petal-length  petal-width\n",
              "0     -0.900681     1.032057     -1.341272    -1.312977\n",
              "1     -1.143017    -0.124958     -1.341272    -1.312977\n",
              "2     -1.385353     0.337848     -1.398138    -1.312977\n",
              "3     -1.506521     0.106445     -1.284407    -1.312977\n",
              "4     -1.021849     1.263460     -1.341272    -1.312977"
            ]
          },
          "metadata": {
            "tags": []
          },
          "execution_count": 110
        }
      ]
    },
    {
      "metadata": {
        "id": "W3uyOMAbwj0l",
        "colab_type": "text"
      },
      "cell_type": "markdown",
      "source": [
        "### Create dummy variables for categorical columns"
      ]
    },
    {
      "metadata": {
        "id": "rr4p7hgOwDCa",
        "colab_type": "code",
        "colab": {
          "autoexec": {
            "startup": false,
            "wait_interval": 0
          }
        }
      },
      "cell_type": "code",
      "source": [
        "# none available in this dataset"
      ],
      "execution_count": 0,
      "outputs": []
    },
    {
      "metadata": {
        "id": "WdRjvoLhwsYf",
        "colab_type": "text"
      },
      "cell_type": "markdown",
      "source": [
        "### Concat all dataframes - continuous + categorical + target"
      ]
    },
    {
      "metadata": {
        "id": "5t3V2jJlwrPj",
        "colab_type": "code",
        "colab": {
          "autoexec": {
            "startup": false,
            "wait_interval": 0
          },
          "output_extras": [
            {
              "item_id": 1
            }
          ],
          "base_uri": "https://localhost:8080/",
          "height": 204
        },
        "outputId": "014a2691-33aa-4f7e-ef15-903b35e2dc5c",
        "executionInfo": {
          "status": "ok",
          "timestamp": 1522914491381,
          "user_tz": -330,
          "elapsed": 792,
          "user": {
            "displayName": "Gaurav Sharma",
            "photoUrl": "//lh3.googleusercontent.com/-RxTlaEjP3Ek/AAAAAAAAAAI/AAAAAAAABDI/ssrDBNDHUcs/s50-c-k-no/photo.jpg",
            "userId": "112710572013370038539"
          }
        }
      },
      "cell_type": "code",
      "source": [
        "df_final = pd.concat([df_cont_rescaled, df_y], axis=1)\n",
        "df_final.head()"
      ],
      "execution_count": 112,
      "outputs": [
        {
          "output_type": "execute_result",
          "data": {
            "text/html": [
              "<div>\n",
              "<style scoped>\n",
              "    .dataframe tbody tr th:only-of-type {\n",
              "        vertical-align: middle;\n",
              "    }\n",
              "\n",
              "    .dataframe tbody tr th {\n",
              "        vertical-align: top;\n",
              "    }\n",
              "\n",
              "    .dataframe thead th {\n",
              "        text-align: right;\n",
              "    }\n",
              "</style>\n",
              "<table border=\"1\" class=\"dataframe\">\n",
              "  <thead>\n",
              "    <tr style=\"text-align: right;\">\n",
              "      <th></th>\n",
              "      <th>sepal-length</th>\n",
              "      <th>sepal-width</th>\n",
              "      <th>petal-length</th>\n",
              "      <th>petal-width</th>\n",
              "      <th>class</th>\n",
              "    </tr>\n",
              "  </thead>\n",
              "  <tbody>\n",
              "    <tr>\n",
              "      <th>0</th>\n",
              "      <td>-0.900681</td>\n",
              "      <td>1.032057</td>\n",
              "      <td>-1.341272</td>\n",
              "      <td>-1.312977</td>\n",
              "      <td>0</td>\n",
              "    </tr>\n",
              "    <tr>\n",
              "      <th>1</th>\n",
              "      <td>-1.143017</td>\n",
              "      <td>-0.124958</td>\n",
              "      <td>-1.341272</td>\n",
              "      <td>-1.312977</td>\n",
              "      <td>0</td>\n",
              "    </tr>\n",
              "    <tr>\n",
              "      <th>2</th>\n",
              "      <td>-1.385353</td>\n",
              "      <td>0.337848</td>\n",
              "      <td>-1.398138</td>\n",
              "      <td>-1.312977</td>\n",
              "      <td>0</td>\n",
              "    </tr>\n",
              "    <tr>\n",
              "      <th>3</th>\n",
              "      <td>-1.506521</td>\n",
              "      <td>0.106445</td>\n",
              "      <td>-1.284407</td>\n",
              "      <td>-1.312977</td>\n",
              "      <td>0</td>\n",
              "    </tr>\n",
              "    <tr>\n",
              "      <th>4</th>\n",
              "      <td>-1.021849</td>\n",
              "      <td>1.263460</td>\n",
              "      <td>-1.341272</td>\n",
              "      <td>-1.312977</td>\n",
              "      <td>0</td>\n",
              "    </tr>\n",
              "  </tbody>\n",
              "</table>\n",
              "</div>"
            ],
            "text/plain": [
              "   sepal-length  sepal-width  petal-length  petal-width  class\n",
              "0     -0.900681     1.032057     -1.341272    -1.312977      0\n",
              "1     -1.143017    -0.124958     -1.341272    -1.312977      0\n",
              "2     -1.385353     0.337848     -1.398138    -1.312977      0\n",
              "3     -1.506521     0.106445     -1.284407    -1.312977      0\n",
              "4     -1.021849     1.263460     -1.341272    -1.312977      0"
            ]
          },
          "metadata": {
            "tags": []
          },
          "execution_count": 112
        }
      ]
    },
    {
      "metadata": {
        "id": "6FOAV5scw2JA",
        "colab_type": "text"
      },
      "cell_type": "markdown",
      "source": [
        "### Prepare X and y to train model"
      ]
    },
    {
      "metadata": {
        "id": "eZfW3fvdw5TQ",
        "colab_type": "code",
        "colab": {
          "autoexec": {
            "startup": false,
            "wait_interval": 0
          },
          "output_extras": [
            {
              "item_id": 1
            }
          ],
          "base_uri": "https://localhost:8080/",
          "height": 34
        },
        "outputId": "736cd5b2-2486-4e84-fca9-e05dae3ca1ba",
        "executionInfo": {
          "status": "ok",
          "timestamp": 1522914563283,
          "user_tz": -330,
          "elapsed": 965,
          "user": {
            "displayName": "Gaurav Sharma",
            "photoUrl": "//lh3.googleusercontent.com/-RxTlaEjP3Ek/AAAAAAAAAAI/AAAAAAAABDI/ssrDBNDHUcs/s50-c-k-no/photo.jpg",
            "userId": "112710572013370038539"
          }
        }
      },
      "cell_type": "code",
      "source": [
        "X = np.array(df_final.iloc[:,:-1])\n",
        "y = np.array(df_final.iloc[:,-1]).reshape(-1,1)\n",
        "print(X.shape, y.shape)"
      ],
      "execution_count": 118,
      "outputs": [
        {
          "output_type": "stream",
          "text": [
            "(150, 4) (150, 1)\n"
          ],
          "name": "stdout"
        }
      ]
    },
    {
      "metadata": {
        "id": "0Gzy1_U62z0N",
        "colab_type": "text"
      },
      "cell_type": "markdown",
      "source": [
        "### Prepare train and test data from dataset"
      ]
    },
    {
      "metadata": {
        "id": "GIPpeJSvxDgl",
        "colab_type": "code",
        "colab": {
          "autoexec": {
            "startup": false,
            "wait_interval": 0
          }
        }
      },
      "cell_type": "code",
      "source": [
        "X_train, X_validation, Y_train, Y_validation = train_test_split(X, y, stratify=y, test_size=0.3)"
      ],
      "execution_count": 0,
      "outputs": []
    },
    {
      "metadata": {
        "id": "6FdtirOm4HER",
        "colab_type": "text"
      },
      "cell_type": "markdown",
      "source": [
        "### Prepare list of modules to be used"
      ]
    },
    {
      "metadata": {
        "id": "Gbo11v2R27WX",
        "colab_type": "code",
        "colab": {
          "autoexec": {
            "startup": false,
            "wait_interval": 0
          }
        }
      },
      "cell_type": "code",
      "source": [
        "models = []\n",
        "models.append(('LR', LogisticRegression()))\n",
        "models.append(('LDA', LinearDiscriminantAnalysis()))\n",
        "models.append(('KNN', KNeighborsClassifier()))\n",
        "models.append(('CART', DecisionTreeClassifier()))\n",
        "models.append(('NB', GaussianNB()))\n",
        "models.append(('SVM', SVC()))"
      ],
      "execution_count": 0,
      "outputs": []
    },
    {
      "metadata": {
        "id": "cwFw1naR4L-x",
        "colab_type": "text"
      },
      "cell_type": "markdown",
      "source": [
        "### Train the model"
      ]
    },
    {
      "metadata": {
        "id": "lEeFtOhF4KgB",
        "colab_type": "code",
        "colab": {
          "autoexec": {
            "startup": false,
            "wait_interval": 0
          },
          "output_extras": [
            {
              "item_id": 1
            }
          ],
          "base_uri": "https://localhost:8080/",
          "height": 119
        },
        "outputId": "666743df-dfb4-4850-8c35-4fe67abc7bcd",
        "executionInfo": {
          "status": "ok",
          "timestamp": 1522916499596,
          "user_tz": -330,
          "elapsed": 1114,
          "user": {
            "displayName": "Gaurav Sharma",
            "photoUrl": "//lh3.googleusercontent.com/-RxTlaEjP3Ek/AAAAAAAAAAI/AAAAAAAABDI/ssrDBNDHUcs/s50-c-k-no/photo.jpg",
            "userId": "112710572013370038539"
          }
        }
      },
      "cell_type": "code",
      "source": [
        "results = []\n",
        "names = []\n",
        "for name, model in models:\n",
        "    kfold = KFold(n_splits=10, random_state=rs)\n",
        "    cv_results = cross_val_score(model, X_train, Y_train, cv=kfold, scoring='accuracy')\n",
        "    results.append(cv_results)\n",
        "    names.append(name)\n",
        "    msg = \"%s: %f (%f)\" % (name, cv_results.mean(), cv_results.std())\n",
        "    print(msg)\n"
      ],
      "execution_count": 132,
      "outputs": [
        {
          "output_type": "stream",
          "text": [
            "LR: 0.905455 (0.096569)\n",
            "LDA: 0.962727 (0.061180)\n",
            "KNN: 0.935455 (0.082166)\n",
            "CART: 0.934545 (0.082502)\n",
            "NB: 0.963636 (0.060302)\n",
            "SVM: 0.963636 (0.060302)\n"
          ],
          "name": "stdout"
        }
      ]
    },
    {
      "metadata": {
        "id": "02wt1rhT5hrf",
        "colab_type": "text"
      },
      "cell_type": "markdown",
      "source": [
        "### Fit and Predict"
      ]
    },
    {
      "metadata": {
        "id": "D3CU55i54WiT",
        "colab_type": "code",
        "colab": {
          "autoexec": {
            "startup": false,
            "wait_interval": 0
          },
          "output_extras": [
            {
              "item_id": 1
            }
          ],
          "base_uri": "https://localhost:8080/",
          "height": 221
        },
        "outputId": "c16e96ad-84d4-466c-aa22-f349e68b182e",
        "executionInfo": {
          "status": "ok",
          "timestamp": 1522916584478,
          "user_tz": -330,
          "elapsed": 1268,
          "user": {
            "displayName": "Gaurav Sharma",
            "photoUrl": "//lh3.googleusercontent.com/-RxTlaEjP3Ek/AAAAAAAAAAI/AAAAAAAABDI/ssrDBNDHUcs/s50-c-k-no/photo.jpg",
            "userId": "112710572013370038539"
          }
        }
      },
      "cell_type": "code",
      "source": [
        "model = SVC()\n",
        "model.fit(X_train, Y_train)\n",
        "predictions = model.predict(X_validation)\n",
        "print(accuracy_score(Y_validation, predictions))\n",
        "print(confusion_matrix(Y_validation, predictions))\n",
        "print(classification_report(Y_validation, predictions))"
      ],
      "execution_count": 133,
      "outputs": [
        {
          "output_type": "stream",
          "text": [
            "0.9333333333333333\n",
            "[[14  1  0]\n",
            " [ 0 15  0]\n",
            " [ 0  2 13]]\n",
            "             precision    recall  f1-score   support\n",
            "\n",
            "          0       1.00      0.93      0.97        15\n",
            "          1       0.83      1.00      0.91        15\n",
            "          2       1.00      0.87      0.93        15\n",
            "\n",
            "avg / total       0.94      0.93      0.93        45\n",
            "\n"
          ],
          "name": "stdout"
        }
      ]
    },
    {
      "metadata": {
        "id": "t8BiKCd85uWO",
        "colab_type": "code",
        "colab": {
          "autoexec": {
            "startup": false,
            "wait_interval": 0
          }
        }
      },
      "cell_type": "code",
      "source": [
        ""
      ],
      "execution_count": 0,
      "outputs": []
    }
  ]
}