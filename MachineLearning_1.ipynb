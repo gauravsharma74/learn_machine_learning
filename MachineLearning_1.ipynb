{
 "cells": [
  {
   "cell_type": "markdown",
   "metadata": {
    "colab_type": "text",
    "id": "a-xkb7lc4Qx2"
   },
   "source": [
    "Our **goal** is to predict **something** from **past data**. Here **something** is \"Which class does a particular plant observation belong to?\". We can predict **multiple observations** as well. We **train the model using past data** and **test the model on new data**. We can also split available data into train, validation and test data, and then perform training, validating and testing of the model.\n",
    "\n",
    "What we are trying to figure out is \"**formula for success**\". for e.g. we know that a+b=c. Here we know the formula, we have past data and we can achieve 100% accurate result. So what we do is pass past data and algorithms to the process, and in return we get the prediction right. Sometimes we get **errors** in our predictions, so we *keep on correcting till we reach our potential in minimizing error*. Most likely, we will never be 100% correct, but we have to **increase our probability of success by reducing errors**. Each algorithm has its own assumptions, nuances and performance. This is something very complicated for layman or to be precise who doesnt have in depth maths and statistics background. So I will cover that later once you are more comfortable with the basics or fundamentals. We need to learn to crawl first before we can walk."
   ]
  },
  {
   "cell_type": "markdown",
   "metadata": {
    "colab_type": "text",
    "id": "GZvMBueUxXY0"
   },
   "source": [
    "This is the first step. This is your **toolbox** for machine learning. Without it, you will be struggling. You don't want to reinvent the wheel. So you import all the packages, modules and classes needed to perform machine learning on your data."
   ]
  },
  {
   "cell_type": "code",
   "execution_count": 1,
   "metadata": {
    "colab": {
     "autoexec": {
      "startup": false,
      "wait_interval": 0
     }
    },
    "colab_type": "code",
    "id": "9w85gW21wBxt"
   },
   "outputs": [],
   "source": [
    "import pandas as pd\n",
    "import sklearn.datasets as skl_datasets\n",
    "import numpy as np\n",
    "import matplotlib.pyplot as plt\n",
    "import seaborn as sns\n",
    "import sklearn.model_selection as sklms\n",
    "import sklearn.linear_model as skllm\n",
    "from sklearn.neighbors import KNeighborsClassifier"
   ]
  },
  {
   "cell_type": "markdown",
   "metadata": {
    "colab_type": "text",
    "id": "UnL4yq2kx08g"
   },
   "source": [
    "Now, you your process is ready to begin. You start with** bringing in your raw material**. Sometimes it will be very dirty and sometimes it will be as **tidy** as like Sklearn datasets. These are already cleaned up and ready to feed to your process. I will talk about how to make data from dirty to tidy in another article. Till then lets KISS (keep it simple)"
   ]
  },
  {
   "cell_type": "code",
   "execution_count": 2,
   "metadata": {
    "colab": {
     "autoexec": {
      "startup": false,
      "wait_interval": 0
     }
    },
    "colab_type": "code",
    "id": "WZX1L-6uwIJa"
   },
   "outputs": [],
   "source": [
    "ds_iris = skl_datasets.load_iris()"
   ]
  },
  {
   "cell_type": "markdown",
   "metadata": {
    "colab_type": "text",
    "id": "yLGpFjgDydKV"
   },
   "source": [
    "Once you have imported all the raw material i.e. your raw data to the procss, you would like to understand the background of it. It will tell you which **features or columns or attributes or independent variables** are present to predict the **target or outcome or dependent variable**. It will also tell you how many **observations or rows or instances** are present in the dataset. Sometimes you will get data that doesnt have a header or top row and sometimes it may have summary columns or rows. You need to ensure that your final output is that is like a table where all columns except last one are features and last column represents target variable, and all rows are observations. *From now onwards, I will only say features and target.*"
   ]
  },
  {
   "cell_type": "code",
   "execution_count": 3,
   "metadata": {
    "colab": {
     "autoexec": {
      "startup": false,
      "wait_interval": 0
     },
     "base_uri": "https://localhost:8080/",
     "height": 1088,
     "output_extras": [
      {
       "item_id": 1
      }
     ]
    },
    "colab_type": "code",
    "executionInfo": {
     "elapsed": 867,
     "status": "ok",
     "timestamp": 1522135380125,
     "user": {
      "displayName": "Gaurav Sharma",
      "photoUrl": "//lh3.googleusercontent.com/-RxTlaEjP3Ek/AAAAAAAAAAI/AAAAAAAABDI/ssrDBNDHUcs/s50-c-k-no/photo.jpg",
      "userId": "112710572013370038539"
     },
     "user_tz": -330
    },
    "id": "s4HBhwqcwu1Y",
    "outputId": "81cfe886-c4c0-458a-d04f-20d6403d1d75"
   },
   "outputs": [
    {
     "name": "stdout",
     "output_type": "stream",
     "text": [
      "Iris Plants Database\n",
      "====================\n",
      "\n",
      "Notes\n",
      "-----\n",
      "Data Set Characteristics:\n",
      "    :Number of Instances: 150 (50 in each of three classes)\n",
      "    :Number of Attributes: 4 numeric, predictive attributes and the class\n",
      "    :Attribute Information:\n",
      "        - sepal length in cm\n",
      "        - sepal width in cm\n",
      "        - petal length in cm\n",
      "        - petal width in cm\n",
      "        - class:\n",
      "                - Iris-Setosa\n",
      "                - Iris-Versicolour\n",
      "                - Iris-Virginica\n",
      "    :Summary Statistics:\n",
      "\n",
      "    ============== ==== ==== ======= ===== ====================\n",
      "                    Min  Max   Mean    SD   Class Correlation\n",
      "    ============== ==== ==== ======= ===== ====================\n",
      "    sepal length:   4.3  7.9   5.84   0.83    0.7826\n",
      "    sepal width:    2.0  4.4   3.05   0.43   -0.4194\n",
      "    petal length:   1.0  6.9   3.76   1.76    0.9490  (high!)\n",
      "    petal width:    0.1  2.5   1.20  0.76     0.9565  (high!)\n",
      "    ============== ==== ==== ======= ===== ====================\n",
      "\n",
      "    :Missing Attribute Values: None\n",
      "    :Class Distribution: 33.3% for each of 3 classes.\n",
      "    :Creator: R.A. Fisher\n",
      "    :Donor: Michael Marshall (MARSHALL%PLU@io.arc.nasa.gov)\n",
      "    :Date: July, 1988\n",
      "\n",
      "This is a copy of UCI ML iris datasets.\n",
      "http://archive.ics.uci.edu/ml/datasets/Iris\n",
      "\n",
      "The famous Iris database, first used by Sir R.A Fisher\n",
      "\n",
      "This is perhaps the best known database to be found in the\n",
      "pattern recognition literature.  Fisher's paper is a classic in the field and\n",
      "is referenced frequently to this day.  (See Duda & Hart, for example.)  The\n",
      "data set contains 3 classes of 50 instances each, where each class refers to a\n",
      "type of iris plant.  One class is linearly separable from the other 2; the\n",
      "latter are NOT linearly separable from each other.\n",
      "\n",
      "References\n",
      "----------\n",
      "   - Fisher,R.A. \"The use of multiple measurements in taxonomic problems\"\n",
      "     Annual Eugenics, 7, Part II, 179-188 (1936); also in \"Contributions to\n",
      "     Mathematical Statistics\" (John Wiley, NY, 1950).\n",
      "   - Duda,R.O., & Hart,P.E. (1973) Pattern Classification and Scene Analysis.\n",
      "     (Q327.D83) John Wiley & Sons.  ISBN 0-471-22361-1.  See page 218.\n",
      "   - Dasarathy, B.V. (1980) \"Nosing Around the Neighborhood: A New System\n",
      "     Structure and Classification Rule for Recognition in Partially Exposed\n",
      "     Environments\".  IEEE Transactions on Pattern Analysis and Machine\n",
      "     Intelligence, Vol. PAMI-2, No. 1, 67-71.\n",
      "   - Gates, G.W. (1972) \"The Reduced Nearest Neighbor Rule\".  IEEE Transactions\n",
      "     on Information Theory, May 1972, 431-433.\n",
      "   - See also: 1988 MLC Proceedings, 54-64.  Cheeseman et al\"s AUTOCLASS II\n",
      "     conceptual clustering system finds 3 classes in the data.\n",
      "   - Many, many more ...\n",
      "\n"
     ]
    }
   ],
   "source": [
    "print(ds_iris.DESCR)"
   ]
  },
  {
   "cell_type": "markdown",
   "metadata": {
    "colab_type": "text",
    "id": "p7Ogfqy50EDN"
   },
   "source": [
    "Now you can look at your data at a high level. Feature names, Target Name, Features data, Target data"
   ]
  },
  {
   "cell_type": "code",
   "execution_count": 4,
   "metadata": {
    "colab": {
     "autoexec": {
      "startup": false,
      "wait_interval": 0
     }
    },
    "colab_type": "code",
    "id": "G9Eq2FsHwYi4"
   },
   "outputs": [],
   "source": [
    "X = ds_iris.data\n",
    "features = ds_iris.feature_names\n",
    "y = ds_iris.target\n",
    "target = ds_iris.target_names"
   ]
  },
  {
   "cell_type": "markdown",
   "metadata": {
    "colab_type": "text",
    "id": "b5YFHRMy0ZD4"
   },
   "source": [
    "We start with looking at feature data. What is the matrix or table size?  and few initial rows. It is stored in form of Numpy array where 150 rows and 4 columns are present. So it is a 150x4 matrix."
   ]
  },
  {
   "cell_type": "code",
   "execution_count": 5,
   "metadata": {
    "colab": {
     "autoexec": {
      "startup": false,
      "wait_interval": 0
     },
     "base_uri": "https://localhost:8080/",
     "height": 119,
     "output_extras": [
      {
       "item_id": 1
      },
      {
       "item_id": 2
      }
     ]
    },
    "colab_type": "code",
    "executionInfo": {
     "elapsed": 1099,
     "status": "ok",
     "timestamp": 1522135383134,
     "user": {
      "displayName": "Gaurav Sharma",
      "photoUrl": "//lh3.googleusercontent.com/-RxTlaEjP3Ek/AAAAAAAAAAI/AAAAAAAABDI/ssrDBNDHUcs/s50-c-k-no/photo.jpg",
      "userId": "112710572013370038539"
     },
     "user_tz": -330
    },
    "id": "L4LGQm2Jwo7r",
    "outputId": "b8a74712-cb27-457e-d763-440fd900f694"
   },
   "outputs": [
    {
     "name": "stdout",
     "output_type": "stream",
     "text": [
      "(150, 4)\n"
     ]
    },
    {
     "data": {
      "text/plain": [
       "array([[5.1, 3.5, 1.4, 0.2],\n",
       "       [4.9, 3. , 1.4, 0.2],\n",
       "       [4.7, 3.2, 1.3, 0.2],\n",
       "       [4.6, 3.1, 1.5, 0.2],\n",
       "       [5. , 3.6, 1.4, 0.2]])"
      ]
     },
     "execution_count": 5,
     "metadata": {},
     "output_type": "execute_result"
    }
   ],
   "source": [
    "print(X.shape)\n",
    "X[:5,:]"
   ]
  },
  {
   "cell_type": "markdown",
   "metadata": {
    "colab_type": "text",
    "id": "JBdY2LbK1BhR"
   },
   "source": [
    "Next we look at is feature names. As these names have text that is little complicated we can simplify them by converting them to simple names. Lets keep them simple. Naming convention we could follow is all lowercase and hyphen between each word"
   ]
  },
  {
   "cell_type": "code",
   "execution_count": 6,
   "metadata": {
    "colab": {
     "autoexec": {
      "startup": false,
      "wait_interval": 0
     },
     "base_uri": "https://localhost:8080/",
     "height": 85,
     "output_extras": [
      {
       "item_id": 1
      }
     ]
    },
    "colab_type": "code",
    "executionInfo": {
     "elapsed": 857,
     "status": "ok",
     "timestamp": 1522135384491,
     "user": {
      "displayName": "Gaurav Sharma",
      "photoUrl": "//lh3.googleusercontent.com/-RxTlaEjP3Ek/AAAAAAAAAAI/AAAAAAAABDI/ssrDBNDHUcs/s50-c-k-no/photo.jpg",
      "userId": "112710572013370038539"
     },
     "user_tz": -330
    },
    "id": "0DuC_KaXwqIq",
    "outputId": "f4bd3204-c4f1-4bc7-a32b-102fd029f370"
   },
   "outputs": [
    {
     "data": {
      "text/plain": [
       "['sepal length (cm)',\n",
       " 'sepal width (cm)',\n",
       " 'petal length (cm)',\n",
       " 'petal width (cm)']"
      ]
     },
     "execution_count": 6,
     "metadata": {},
     "output_type": "execute_result"
    }
   ],
   "source": [
    "features"
   ]
  },
  {
   "cell_type": "code",
   "execution_count": 7,
   "metadata": {
    "colab": {
     "autoexec": {
      "startup": false,
      "wait_interval": 0
     }
    },
    "colab_type": "code",
    "id": "_a8jYYoQ1lX8"
   },
   "outputs": [],
   "source": [
    "features = ['sepal-length','sepal-width','petal-length','petal-width']"
   ]
  },
  {
   "cell_type": "code",
   "execution_count": 8,
   "metadata": {
    "colab": {
     "autoexec": {
      "startup": false,
      "wait_interval": 0
     },
     "base_uri": "https://localhost:8080/",
     "height": 34,
     "output_extras": [
      {
       "item_id": 1
      }
     ]
    },
    "colab_type": "code",
    "executionInfo": {
     "elapsed": 846,
     "status": "ok",
     "timestamp": 1522135387423,
     "user": {
      "displayName": "Gaurav Sharma",
      "photoUrl": "//lh3.googleusercontent.com/-RxTlaEjP3Ek/AAAAAAAAAAI/AAAAAAAABDI/ssrDBNDHUcs/s50-c-k-no/photo.jpg",
      "userId": "112710572013370038539"
     },
     "user_tz": -330
    },
    "id": "6cZNNP2a1zpI",
    "outputId": "d6794a7b-8469-414b-809e-9e7aa39c78ee"
   },
   "outputs": [
    {
     "data": {
      "text/plain": [
       "['sepal-length', 'sepal-width', 'petal-length', 'petal-width']"
      ]
     },
     "execution_count": 8,
     "metadata": {},
     "output_type": "execute_result"
    }
   ],
   "source": [
    "features"
   ]
  },
  {
   "cell_type": "markdown",
   "metadata": {
    "colab_type": "text",
    "id": "LwbgzNfN4LzQ"
   },
   "source": [
    "Finally we look at target variable. Its size and top 5 values."
   ]
  },
  {
   "cell_type": "code",
   "execution_count": 9,
   "metadata": {
    "colab": {
     "autoexec": {
      "startup": false,
      "wait_interval": 0
     },
     "base_uri": "https://localhost:8080/",
     "height": 51,
     "output_extras": [
      {
       "item_id": 1
      },
      {
       "item_id": 2
      }
     ]
    },
    "colab_type": "code",
    "executionInfo": {
     "elapsed": 1095,
     "status": "ok",
     "timestamp": 1522135389034,
     "user": {
      "displayName": "Gaurav Sharma",
      "photoUrl": "//lh3.googleusercontent.com/-RxTlaEjP3Ek/AAAAAAAAAAI/AAAAAAAABDI/ssrDBNDHUcs/s50-c-k-no/photo.jpg",
      "userId": "112710572013370038539"
     },
     "user_tz": -330
    },
    "id": "4WhY1l-LxD1i",
    "outputId": "64370059-77ac-4d31-efdb-bd9bce0a67a8"
   },
   "outputs": [
    {
     "name": "stdout",
     "output_type": "stream",
     "text": [
      "(150,)\n"
     ]
    },
    {
     "data": {
      "text/plain": [
       "array([0, 0, 0, 0, 0])"
      ]
     },
     "execution_count": 9,
     "metadata": {},
     "output_type": "execute_result"
    }
   ],
   "source": [
    "print(y.shape)\n",
    "y[:5]"
   ]
  },
  {
   "cell_type": "markdown",
   "metadata": {
    "colab_type": "text",
    "id": "Xyf9cfOe_wvm"
   },
   "source": [
    "Now we look at target data. It clearly tells you that you have 3 classes. Each observation belongs to one of three classes available in past target data. All new data will be classified belonging to one of 3 classes. It also tells you about the data type of the target variable."
   ]
  },
  {
   "cell_type": "code",
   "execution_count": 10,
   "metadata": {
    "colab": {
     "autoexec": {
      "startup": false,
      "wait_interval": 0
     },
     "base_uri": "https://localhost:8080/",
     "height": 34,
     "output_extras": [
      {
       "item_id": 1
      }
     ]
    },
    "colab_type": "code",
    "executionInfo": {
     "elapsed": 806,
     "status": "ok",
     "timestamp": 1522135390366,
     "user": {
      "displayName": "Gaurav Sharma",
      "photoUrl": "//lh3.googleusercontent.com/-RxTlaEjP3Ek/AAAAAAAAAAI/AAAAAAAABDI/ssrDBNDHUcs/s50-c-k-no/photo.jpg",
      "userId": "112710572013370038539"
     },
     "user_tz": -330
    },
    "id": "YSKC6HPgxFvg",
    "outputId": "43482d0f-16cd-4e65-c48d-4cd0dd664555"
   },
   "outputs": [
    {
     "data": {
      "text/plain": [
       "array(['setosa', 'versicolor', 'virginica'], dtype='<U10')"
      ]
     },
     "execution_count": 10,
     "metadata": {},
     "output_type": "execute_result"
    }
   ],
   "source": [
    "target"
   ]
  },
  {
   "cell_type": "markdown",
   "metadata": {
    "colab_type": "text",
    "id": "RcpaguJJ_Vg1"
   },
   "source": [
    "So what we are trying to work out is that we look at past data (features and target), train the model, and then use this model to predict on new available data in future"
   ]
  },
  {
   "cell_type": "markdown",
   "metadata": {
    "colab_type": "text",
    "id": "ALB93cPA_gt9"
   },
   "source": [
    "So we have X, y and features, target name. We will leverage this available to data to build our model and carry out rest of machine learning process to reach our end goal i.e. prediction on new data"
   ]
  },
  {
   "cell_type": "markdown",
   "metadata": {
    "colab_type": "text",
    "id": "tWDyHJzID6m_"
   },
   "source": [
    "From here on, we explore our data both in numbers and graphs. Both are important to get a feel of your data"
   ]
  },
  {
   "cell_type": "markdown",
   "metadata": {
    "colab_type": "text",
    "id": "Yj8MjcCmEJw0"
   },
   "source": [
    "But before we explore, we need to collect all different pieces of information and bundle them up in a dataframe, more so from a convenience perspective. Pandas DataFrame is like your table in a database or a spreadsheet tab or table."
   ]
  },
  {
   "cell_type": "code",
   "execution_count": 11,
   "metadata": {
    "colab": {
     "autoexec": {
      "startup": false,
      "wait_interval": 0
     }
    },
    "colab_type": "code",
    "id": "gwlaWb5d_nSn"
   },
   "outputs": [],
   "source": [
    "# we convert numpy array to pandas dataframe\n",
    "df_X = pd.DataFrame(X)\n",
    "# we reshape the target variable to make it same number of rows as in X and \n",
    "# 1 column\n",
    "y = y.reshape(-1,1)\n",
    "# we convert y also to a dataframe\n",
    "df_y = pd.DataFrame(y)\n",
    "# finally we merge X and y together. axis=1 means concatenate column wise\n",
    "df = pd.concat([df_X,df_y], axis=1)"
   ]
  },
  {
   "cell_type": "code",
   "execution_count": 12,
   "metadata": {
    "colab": {
     "autoexec": {
      "startup": false,
      "wait_interval": 0
     }
    },
    "colab_type": "code",
    "id": "MLjpP8phD3Ua"
   },
   "outputs": [],
   "source": [
    "# now we update feature and target names to the merged dataframe\n",
    "features.append(\"class\")\n",
    "df.columns = features"
   ]
  },
  {
   "cell_type": "code",
   "execution_count": 13,
   "metadata": {
    "colab": {
     "autoexec": {
      "startup": false,
      "wait_interval": 0
     },
     "base_uri": "https://localhost:8080/",
     "height": 204,
     "output_extras": [
      {
       "item_id": 1
      }
     ]
    },
    "colab_type": "code",
    "executionInfo": {
     "elapsed": 801,
     "status": "ok",
     "timestamp": 1522135394212,
     "user": {
      "displayName": "Gaurav Sharma",
      "photoUrl": "//lh3.googleusercontent.com/-RxTlaEjP3Ek/AAAAAAAAAAI/AAAAAAAABDI/ssrDBNDHUcs/s50-c-k-no/photo.jpg",
      "userId": "112710572013370038539"
     },
     "user_tz": -330
    },
    "id": "v4Ht8tegER6Q",
    "outputId": "20f9ebd6-76b4-41e7-e4e6-945400f7965b"
   },
   "outputs": [
    {
     "data": {
      "text/html": [
       "<div>\n",
       "<style scoped>\n",
       "    .dataframe tbody tr th:only-of-type {\n",
       "        vertical-align: middle;\n",
       "    }\n",
       "\n",
       "    .dataframe tbody tr th {\n",
       "        vertical-align: top;\n",
       "    }\n",
       "\n",
       "    .dataframe thead th {\n",
       "        text-align: right;\n",
       "    }\n",
       "</style>\n",
       "<table border=\"1\" class=\"dataframe\">\n",
       "  <thead>\n",
       "    <tr style=\"text-align: right;\">\n",
       "      <th></th>\n",
       "      <th>sepal-length</th>\n",
       "      <th>sepal-width</th>\n",
       "      <th>petal-length</th>\n",
       "      <th>petal-width</th>\n",
       "      <th>class</th>\n",
       "    </tr>\n",
       "  </thead>\n",
       "  <tbody>\n",
       "    <tr>\n",
       "      <th>0</th>\n",
       "      <td>5.1</td>\n",
       "      <td>3.5</td>\n",
       "      <td>1.4</td>\n",
       "      <td>0.2</td>\n",
       "      <td>0</td>\n",
       "    </tr>\n",
       "    <tr>\n",
       "      <th>1</th>\n",
       "      <td>4.9</td>\n",
       "      <td>3.0</td>\n",
       "      <td>1.4</td>\n",
       "      <td>0.2</td>\n",
       "      <td>0</td>\n",
       "    </tr>\n",
       "    <tr>\n",
       "      <th>2</th>\n",
       "      <td>4.7</td>\n",
       "      <td>3.2</td>\n",
       "      <td>1.3</td>\n",
       "      <td>0.2</td>\n",
       "      <td>0</td>\n",
       "    </tr>\n",
       "    <tr>\n",
       "      <th>3</th>\n",
       "      <td>4.6</td>\n",
       "      <td>3.1</td>\n",
       "      <td>1.5</td>\n",
       "      <td>0.2</td>\n",
       "      <td>0</td>\n",
       "    </tr>\n",
       "    <tr>\n",
       "      <th>4</th>\n",
       "      <td>5.0</td>\n",
       "      <td>3.6</td>\n",
       "      <td>1.4</td>\n",
       "      <td>0.2</td>\n",
       "      <td>0</td>\n",
       "    </tr>\n",
       "  </tbody>\n",
       "</table>\n",
       "</div>"
      ],
      "text/plain": [
       "   sepal-length  sepal-width  petal-length  petal-width  class\n",
       "0           5.1          3.5           1.4          0.2      0\n",
       "1           4.9          3.0           1.4          0.2      0\n",
       "2           4.7          3.2           1.3          0.2      0\n",
       "3           4.6          3.1           1.5          0.2      0\n",
       "4           5.0          3.6           1.4          0.2      0"
      ]
     },
     "execution_count": 13,
     "metadata": {},
     "output_type": "execute_result"
    }
   ],
   "source": [
    "# Finally, we look at the head of our monster :-)\n",
    "df.head()"
   ]
  },
  {
   "cell_type": "code",
   "execution_count": 14,
   "metadata": {
    "colab": {
     "autoexec": {
      "startup": false,
      "wait_interval": 0
     },
     "base_uri": "https://localhost:8080/",
     "height": 34,
     "output_extras": [
      {
       "item_id": 1
      }
     ]
    },
    "colab_type": "code",
    "executionInfo": {
     "elapsed": 1086,
     "status": "ok",
     "timestamp": 1522135395823,
     "user": {
      "displayName": "Gaurav Sharma",
      "photoUrl": "//lh3.googleusercontent.com/-RxTlaEjP3Ek/AAAAAAAAAAI/AAAAAAAABDI/ssrDBNDHUcs/s50-c-k-no/photo.jpg",
      "userId": "112710572013370038539"
     },
     "user_tz": -330
    },
    "id": "PGx5-iBAEygF",
    "outputId": "74798cf3-bc88-41d7-dcc6-75335e17dbdc"
   },
   "outputs": [
    {
     "data": {
      "text/plain": [
       "RangeIndex(start=0, stop=150, step=1)"
      ]
     },
     "execution_count": 14,
     "metadata": {},
     "output_type": "execute_result"
    }
   ],
   "source": [
    "# Looks complete\n",
    "# Did you notice first column contains integers. This is index of your table\n",
    "# or dataframe\n",
    "df.index"
   ]
  },
  {
   "cell_type": "markdown",
   "metadata": {
    "colab_type": "text",
    "id": "7Iv_h0LOIsB6"
   },
   "source": [
    "Here we begin exploring our data, both numerically and graphically"
   ]
  },
  {
   "cell_type": "code",
   "execution_count": 15,
   "metadata": {
    "colab": {
     "autoexec": {
      "startup": false,
      "wait_interval": 0
     },
     "base_uri": "https://localhost:8080/",
     "height": 297,
     "output_extras": [
      {
       "item_id": 1
      }
     ]
    },
    "colab_type": "code",
    "executionInfo": {
     "elapsed": 819,
     "status": "ok",
     "timestamp": 1522135397238,
     "user": {
      "displayName": "Gaurav Sharma",
      "photoUrl": "//lh3.googleusercontent.com/-RxTlaEjP3Ek/AAAAAAAAAAI/AAAAAAAABDI/ssrDBNDHUcs/s50-c-k-no/photo.jpg",
      "userId": "112710572013370038539"
     },
     "user_tz": -330
    },
    "id": "fSznKdaHGz9k",
    "outputId": "7c42b4a0-69ba-4aef-fee5-b38ceaffd47d"
   },
   "outputs": [
    {
     "data": {
      "text/html": [
       "<div>\n",
       "<style scoped>\n",
       "    .dataframe tbody tr th:only-of-type {\n",
       "        vertical-align: middle;\n",
       "    }\n",
       "\n",
       "    .dataframe tbody tr th {\n",
       "        vertical-align: top;\n",
       "    }\n",
       "\n",
       "    .dataframe thead th {\n",
       "        text-align: right;\n",
       "    }\n",
       "</style>\n",
       "<table border=\"1\" class=\"dataframe\">\n",
       "  <thead>\n",
       "    <tr style=\"text-align: right;\">\n",
       "      <th></th>\n",
       "      <th>sepal-length</th>\n",
       "      <th>sepal-width</th>\n",
       "      <th>petal-length</th>\n",
       "      <th>petal-width</th>\n",
       "      <th>class</th>\n",
       "    </tr>\n",
       "  </thead>\n",
       "  <tbody>\n",
       "    <tr>\n",
       "      <th>count</th>\n",
       "      <td>150.000000</td>\n",
       "      <td>150.000000</td>\n",
       "      <td>150.000000</td>\n",
       "      <td>150.000000</td>\n",
       "      <td>150.000000</td>\n",
       "    </tr>\n",
       "    <tr>\n",
       "      <th>mean</th>\n",
       "      <td>5.843333</td>\n",
       "      <td>3.054000</td>\n",
       "      <td>3.758667</td>\n",
       "      <td>1.198667</td>\n",
       "      <td>1.000000</td>\n",
       "    </tr>\n",
       "    <tr>\n",
       "      <th>std</th>\n",
       "      <td>0.828066</td>\n",
       "      <td>0.433594</td>\n",
       "      <td>1.764420</td>\n",
       "      <td>0.763161</td>\n",
       "      <td>0.819232</td>\n",
       "    </tr>\n",
       "    <tr>\n",
       "      <th>min</th>\n",
       "      <td>4.300000</td>\n",
       "      <td>2.000000</td>\n",
       "      <td>1.000000</td>\n",
       "      <td>0.100000</td>\n",
       "      <td>0.000000</td>\n",
       "    </tr>\n",
       "    <tr>\n",
       "      <th>25%</th>\n",
       "      <td>5.100000</td>\n",
       "      <td>2.800000</td>\n",
       "      <td>1.600000</td>\n",
       "      <td>0.300000</td>\n",
       "      <td>0.000000</td>\n",
       "    </tr>\n",
       "    <tr>\n",
       "      <th>50%</th>\n",
       "      <td>5.800000</td>\n",
       "      <td>3.000000</td>\n",
       "      <td>4.350000</td>\n",
       "      <td>1.300000</td>\n",
       "      <td>1.000000</td>\n",
       "    </tr>\n",
       "    <tr>\n",
       "      <th>75%</th>\n",
       "      <td>6.400000</td>\n",
       "      <td>3.300000</td>\n",
       "      <td>5.100000</td>\n",
       "      <td>1.800000</td>\n",
       "      <td>2.000000</td>\n",
       "    </tr>\n",
       "    <tr>\n",
       "      <th>max</th>\n",
       "      <td>7.900000</td>\n",
       "      <td>4.400000</td>\n",
       "      <td>6.900000</td>\n",
       "      <td>2.500000</td>\n",
       "      <td>2.000000</td>\n",
       "    </tr>\n",
       "  </tbody>\n",
       "</table>\n",
       "</div>"
      ],
      "text/plain": [
       "       sepal-length  sepal-width  petal-length  petal-width       class\n",
       "count    150.000000   150.000000    150.000000   150.000000  150.000000\n",
       "mean       5.843333     3.054000      3.758667     1.198667    1.000000\n",
       "std        0.828066     0.433594      1.764420     0.763161    0.819232\n",
       "min        4.300000     2.000000      1.000000     0.100000    0.000000\n",
       "25%        5.100000     2.800000      1.600000     0.300000    0.000000\n",
       "50%        5.800000     3.000000      4.350000     1.300000    1.000000\n",
       "75%        6.400000     3.300000      5.100000     1.800000    2.000000\n",
       "max        7.900000     4.400000      6.900000     2.500000    2.000000"
      ]
     },
     "execution_count": 15,
     "metadata": {},
     "output_type": "execute_result"
    }
   ],
   "source": [
    "df.describe()\n",
    "# Looking at data, \n",
    "# I remember the song from Michael Jackson \"The way you make me feel\"\n",
    "# You get a feeler for your data\n",
    "# Each plant has a sepal and a petal\n",
    "# Both have length and width\n",
    "# We use these characteristics to classify each plant\n",
    "# count - tells me that there no missing values or null observations in\n",
    "# each column\n",
    "# Looking at mean of Sepal length tells you that \n",
    "# it is the longest among all features\n",
    "# You look at spread now and find petal length to have maximum variance\n",
    "# you also get to know max and min of each feature\n",
    "# also percentiles for each column"
   ]
  },
  {
   "cell_type": "markdown",
   "metadata": {
    "colab_type": "text",
    "id": "ZdeP48bIKF41"
   },
   "source": [
    "It is important to classify your data and divide them into multiple target classes"
   ]
  },
  {
   "cell_type": "code",
   "execution_count": 16,
   "metadata": {
    "colab": {
     "autoexec": {
      "startup": false,
      "wait_interval": 0
     },
     "base_uri": "https://localhost:8080/",
     "height": 221,
     "output_extras": [
      {
       "item_id": 1
      }
     ]
    },
    "colab_type": "code",
    "executionInfo": {
     "elapsed": 805,
     "status": "ok",
     "timestamp": 1522135398711,
     "user": {
      "displayName": "Gaurav Sharma",
      "photoUrl": "//lh3.googleusercontent.com/-RxTlaEjP3Ek/AAAAAAAAAAI/AAAAAAAABDI/ssrDBNDHUcs/s50-c-k-no/photo.jpg",
      "userId": "112710572013370038539"
     },
     "user_tz": -330
    },
    "id": "dL7zeDUyIoFC",
    "outputId": "63432745-562e-4613-fe19-b5c5c926c0fa"
   },
   "outputs": [
    {
     "data": {
      "text/html": [
       "<div>\n",
       "<style scoped>\n",
       "    .dataframe tbody tr th:only-of-type {\n",
       "        vertical-align: middle;\n",
       "    }\n",
       "\n",
       "    .dataframe tbody tr th {\n",
       "        vertical-align: top;\n",
       "    }\n",
       "\n",
       "    .dataframe thead tr th {\n",
       "        text-align: left;\n",
       "    }\n",
       "\n",
       "    .dataframe thead tr:last-of-type th {\n",
       "        text-align: right;\n",
       "    }\n",
       "</style>\n",
       "<table border=\"1\" class=\"dataframe\">\n",
       "  <thead>\n",
       "    <tr>\n",
       "      <th></th>\n",
       "      <th colspan=\"4\" halign=\"left\">mean</th>\n",
       "      <th colspan=\"4\" halign=\"left\">median</th>\n",
       "    </tr>\n",
       "    <tr>\n",
       "      <th></th>\n",
       "      <th>petal-length</th>\n",
       "      <th>petal-width</th>\n",
       "      <th>sepal-length</th>\n",
       "      <th>sepal-width</th>\n",
       "      <th>petal-length</th>\n",
       "      <th>petal-width</th>\n",
       "      <th>sepal-length</th>\n",
       "      <th>sepal-width</th>\n",
       "    </tr>\n",
       "    <tr>\n",
       "      <th>class</th>\n",
       "      <th></th>\n",
       "      <th></th>\n",
       "      <th></th>\n",
       "      <th></th>\n",
       "      <th></th>\n",
       "      <th></th>\n",
       "      <th></th>\n",
       "      <th></th>\n",
       "    </tr>\n",
       "  </thead>\n",
       "  <tbody>\n",
       "    <tr>\n",
       "      <th>0</th>\n",
       "      <td>1.464</td>\n",
       "      <td>0.244</td>\n",
       "      <td>5.006</td>\n",
       "      <td>3.418</td>\n",
       "      <td>1.50</td>\n",
       "      <td>0.2</td>\n",
       "      <td>5.0</td>\n",
       "      <td>3.4</td>\n",
       "    </tr>\n",
       "    <tr>\n",
       "      <th>1</th>\n",
       "      <td>4.260</td>\n",
       "      <td>1.326</td>\n",
       "      <td>5.936</td>\n",
       "      <td>2.770</td>\n",
       "      <td>4.35</td>\n",
       "      <td>1.3</td>\n",
       "      <td>5.9</td>\n",
       "      <td>2.8</td>\n",
       "    </tr>\n",
       "    <tr>\n",
       "      <th>2</th>\n",
       "      <td>5.552</td>\n",
       "      <td>2.026</td>\n",
       "      <td>6.588</td>\n",
       "      <td>2.974</td>\n",
       "      <td>5.55</td>\n",
       "      <td>2.0</td>\n",
       "      <td>6.5</td>\n",
       "      <td>3.0</td>\n",
       "    </tr>\n",
       "  </tbody>\n",
       "</table>\n",
       "</div>"
      ],
      "text/plain": [
       "              mean                                            median  \\\n",
       "      petal-length petal-width sepal-length sepal-width petal-length   \n",
       "class                                                                  \n",
       "0            1.464       0.244        5.006       3.418         1.50   \n",
       "1            4.260       1.326        5.936       2.770         4.35   \n",
       "2            5.552       2.026        6.588       2.974         5.55   \n",
       "\n",
       "                                            \n",
       "      petal-width sepal-length sepal-width  \n",
       "class                                       \n",
       "0             0.2          5.0         3.4  \n",
       "1             1.3          5.9         2.8  \n",
       "2             2.0          6.5         3.0  "
      ]
     },
     "execution_count": 16,
     "metadata": {},
     "output_type": "execute_result"
    }
   ],
   "source": [
    "pd.pivot_table(data=df,index='class', aggfunc=[np.mean, np.median])"
   ]
  },
  {
   "cell_type": "code",
   "execution_count": 17,
   "metadata": {
    "colab": {
     "autoexec": {
      "startup": false,
      "wait_interval": 0
     },
     "base_uri": "https://localhost:8080/",
     "height": 221,
     "output_extras": [
      {
       "item_id": 1
      }
     ]
    },
    "colab_type": "code",
    "executionInfo": {
     "elapsed": 875,
     "status": "ok",
     "timestamp": 1522135400177,
     "user": {
      "displayName": "Gaurav Sharma",
      "photoUrl": "//lh3.googleusercontent.com/-RxTlaEjP3Ek/AAAAAAAAAAI/AAAAAAAABDI/ssrDBNDHUcs/s50-c-k-no/photo.jpg",
      "userId": "112710572013370038539"
     },
     "user_tz": -330
    },
    "id": "U6lW5jaFKtgU",
    "outputId": "7758c525-1c7f-4730-91ad-1e9cbea00ec9"
   },
   "outputs": [
    {
     "data": {
      "text/html": [
       "<div>\n",
       "<style scoped>\n",
       "    .dataframe tbody tr th:only-of-type {\n",
       "        vertical-align: middle;\n",
       "    }\n",
       "\n",
       "    .dataframe tbody tr th {\n",
       "        vertical-align: top;\n",
       "    }\n",
       "\n",
       "    .dataframe thead tr th {\n",
       "        text-align: left;\n",
       "    }\n",
       "\n",
       "    .dataframe thead tr:last-of-type th {\n",
       "        text-align: right;\n",
       "    }\n",
       "</style>\n",
       "<table border=\"1\" class=\"dataframe\">\n",
       "  <thead>\n",
       "    <tr>\n",
       "      <th></th>\n",
       "      <th colspan=\"4\" halign=\"left\">len</th>\n",
       "      <th colspan=\"4\" halign=\"left\">std</th>\n",
       "    </tr>\n",
       "    <tr>\n",
       "      <th></th>\n",
       "      <th>petal-length</th>\n",
       "      <th>petal-width</th>\n",
       "      <th>sepal-length</th>\n",
       "      <th>sepal-width</th>\n",
       "      <th>petal-length</th>\n",
       "      <th>petal-width</th>\n",
       "      <th>sepal-length</th>\n",
       "      <th>sepal-width</th>\n",
       "    </tr>\n",
       "    <tr>\n",
       "      <th>class</th>\n",
       "      <th></th>\n",
       "      <th></th>\n",
       "      <th></th>\n",
       "      <th></th>\n",
       "      <th></th>\n",
       "      <th></th>\n",
       "      <th></th>\n",
       "      <th></th>\n",
       "    </tr>\n",
       "  </thead>\n",
       "  <tbody>\n",
       "    <tr>\n",
       "      <th>0</th>\n",
       "      <td>50.0</td>\n",
       "      <td>50.0</td>\n",
       "      <td>50.0</td>\n",
       "      <td>50.0</td>\n",
       "      <td>0.173511</td>\n",
       "      <td>0.107210</td>\n",
       "      <td>0.352490</td>\n",
       "      <td>0.381024</td>\n",
       "    </tr>\n",
       "    <tr>\n",
       "      <th>1</th>\n",
       "      <td>50.0</td>\n",
       "      <td>50.0</td>\n",
       "      <td>50.0</td>\n",
       "      <td>50.0</td>\n",
       "      <td>0.469911</td>\n",
       "      <td>0.197753</td>\n",
       "      <td>0.516171</td>\n",
       "      <td>0.313798</td>\n",
       "    </tr>\n",
       "    <tr>\n",
       "      <th>2</th>\n",
       "      <td>50.0</td>\n",
       "      <td>50.0</td>\n",
       "      <td>50.0</td>\n",
       "      <td>50.0</td>\n",
       "      <td>0.551895</td>\n",
       "      <td>0.274650</td>\n",
       "      <td>0.635880</td>\n",
       "      <td>0.322497</td>\n",
       "    </tr>\n",
       "  </tbody>\n",
       "</table>\n",
       "</div>"
      ],
      "text/plain": [
       "               len                                               std  \\\n",
       "      petal-length petal-width sepal-length sepal-width petal-length   \n",
       "class                                                                  \n",
       "0             50.0        50.0         50.0        50.0     0.173511   \n",
       "1             50.0        50.0         50.0        50.0     0.469911   \n",
       "2             50.0        50.0         50.0        50.0     0.551895   \n",
       "\n",
       "                                            \n",
       "      petal-width sepal-length sepal-width  \n",
       "class                                       \n",
       "0        0.107210     0.352490    0.381024  \n",
       "1        0.197753     0.516171    0.313798  \n",
       "2        0.274650     0.635880    0.322497  "
      ]
     },
     "execution_count": 17,
     "metadata": {},
     "output_type": "execute_result"
    }
   ],
   "source": [
    "pd.pivot_table(data=df,index='class', aggfunc=[len, np.std])"
   ]
  },
  {
   "cell_type": "code",
   "execution_count": 18,
   "metadata": {
    "colab": {
     "autoexec": {
      "startup": false,
      "wait_interval": 0
     },
     "base_uri": "https://localhost:8080/",
     "height": 204,
     "output_extras": [
      {
       "item_id": 1
      }
     ]
    },
    "colab_type": "code",
    "executionInfo": {
     "elapsed": 899,
     "status": "ok",
     "timestamp": 1522135401795,
     "user": {
      "displayName": "Gaurav Sharma",
      "photoUrl": "//lh3.googleusercontent.com/-RxTlaEjP3Ek/AAAAAAAAAAI/AAAAAAAABDI/ssrDBNDHUcs/s50-c-k-no/photo.jpg",
      "userId": "112710572013370038539"
     },
     "user_tz": -330
    },
    "id": "qRy6dVoBLi-J",
    "outputId": "9af8eabc-d632-41e2-af40-1e3befafd770"
   },
   "outputs": [
    {
     "data": {
      "text/html": [
       "<div>\n",
       "<style scoped>\n",
       "    .dataframe tbody tr th:only-of-type {\n",
       "        vertical-align: middle;\n",
       "    }\n",
       "\n",
       "    .dataframe tbody tr th {\n",
       "        vertical-align: top;\n",
       "    }\n",
       "\n",
       "    .dataframe thead tr th {\n",
       "        text-align: left;\n",
       "    }\n",
       "\n",
       "    .dataframe thead tr:last-of-type th {\n",
       "        text-align: right;\n",
       "    }\n",
       "</style>\n",
       "<table border=\"1\" class=\"dataframe\">\n",
       "  <thead>\n",
       "    <tr>\n",
       "      <th></th>\n",
       "      <th colspan=\"4\" halign=\"left\">sepal-length</th>\n",
       "      <th colspan=\"4\" halign=\"left\">sepal-width</th>\n",
       "      <th colspan=\"4\" halign=\"left\">petal-length</th>\n",
       "      <th colspan=\"4\" halign=\"left\">petal-width</th>\n",
       "    </tr>\n",
       "    <tr>\n",
       "      <th></th>\n",
       "      <th>min</th>\n",
       "      <th>max</th>\n",
       "      <th>mean</th>\n",
       "      <th>std</th>\n",
       "      <th>min</th>\n",
       "      <th>max</th>\n",
       "      <th>mean</th>\n",
       "      <th>std</th>\n",
       "      <th>min</th>\n",
       "      <th>max</th>\n",
       "      <th>mean</th>\n",
       "      <th>std</th>\n",
       "      <th>min</th>\n",
       "      <th>max</th>\n",
       "      <th>mean</th>\n",
       "      <th>std</th>\n",
       "    </tr>\n",
       "    <tr>\n",
       "      <th>class</th>\n",
       "      <th></th>\n",
       "      <th></th>\n",
       "      <th></th>\n",
       "      <th></th>\n",
       "      <th></th>\n",
       "      <th></th>\n",
       "      <th></th>\n",
       "      <th></th>\n",
       "      <th></th>\n",
       "      <th></th>\n",
       "      <th></th>\n",
       "      <th></th>\n",
       "      <th></th>\n",
       "      <th></th>\n",
       "      <th></th>\n",
       "      <th></th>\n",
       "    </tr>\n",
       "  </thead>\n",
       "  <tbody>\n",
       "    <tr>\n",
       "      <th>0</th>\n",
       "      <td>4.3</td>\n",
       "      <td>5.8</td>\n",
       "      <td>5.01</td>\n",
       "      <td>0.35</td>\n",
       "      <td>2.3</td>\n",
       "      <td>4.4</td>\n",
       "      <td>3.42</td>\n",
       "      <td>0.38</td>\n",
       "      <td>1.0</td>\n",
       "      <td>1.9</td>\n",
       "      <td>1.46</td>\n",
       "      <td>0.17</td>\n",
       "      <td>0.1</td>\n",
       "      <td>0.6</td>\n",
       "      <td>0.24</td>\n",
       "      <td>0.11</td>\n",
       "    </tr>\n",
       "    <tr>\n",
       "      <th>1</th>\n",
       "      <td>4.9</td>\n",
       "      <td>7.0</td>\n",
       "      <td>5.94</td>\n",
       "      <td>0.52</td>\n",
       "      <td>2.0</td>\n",
       "      <td>3.4</td>\n",
       "      <td>2.77</td>\n",
       "      <td>0.31</td>\n",
       "      <td>3.0</td>\n",
       "      <td>5.1</td>\n",
       "      <td>4.26</td>\n",
       "      <td>0.47</td>\n",
       "      <td>1.0</td>\n",
       "      <td>1.8</td>\n",
       "      <td>1.33</td>\n",
       "      <td>0.20</td>\n",
       "    </tr>\n",
       "    <tr>\n",
       "      <th>2</th>\n",
       "      <td>4.9</td>\n",
       "      <td>7.9</td>\n",
       "      <td>6.59</td>\n",
       "      <td>0.64</td>\n",
       "      <td>2.2</td>\n",
       "      <td>3.8</td>\n",
       "      <td>2.97</td>\n",
       "      <td>0.32</td>\n",
       "      <td>4.5</td>\n",
       "      <td>6.9</td>\n",
       "      <td>5.55</td>\n",
       "      <td>0.55</td>\n",
       "      <td>1.4</td>\n",
       "      <td>2.5</td>\n",
       "      <td>2.03</td>\n",
       "      <td>0.27</td>\n",
       "    </tr>\n",
       "  </tbody>\n",
       "</table>\n",
       "</div>"
      ],
      "text/plain": [
       "      sepal-length                  sepal-width                  petal-length  \\\n",
       "               min  max  mean   std         min  max  mean   std          min   \n",
       "class                                                                           \n",
       "0              4.3  5.8  5.01  0.35         2.3  4.4  3.42  0.38          1.0   \n",
       "1              4.9  7.0  5.94  0.52         2.0  3.4  2.77  0.31          3.0   \n",
       "2              4.9  7.9  6.59  0.64         2.2  3.8  2.97  0.32          4.5   \n",
       "\n",
       "                       petal-width                   \n",
       "       max  mean   std         min  max  mean   std  \n",
       "class                                                \n",
       "0      1.9  1.46  0.17         0.1  0.6  0.24  0.11  \n",
       "1      5.1  4.26  0.47         1.0  1.8  1.33  0.20  \n",
       "2      6.9  5.55  0.55         1.4  2.5  2.03  0.27  "
      ]
     },
     "execution_count": 18,
     "metadata": {},
     "output_type": "execute_result"
    }
   ],
   "source": [
    "# Min, Max, Mean and Standard Deviation gives you a good feel about your data\n",
    "# This is where ART comes into the picture. You can make your machine learning\n",
    "# model more beautiful by look at all features and imagining what other\n",
    "# features can be derived from available ones\n",
    "df.groupby('class').agg([min, max, np.mean, np.std]).round(2)"
   ]
  },
  {
   "cell_type": "code",
   "execution_count": 19,
   "metadata": {
    "colab": {
     "autoexec": {
      "startup": false,
      "wait_interval": 0
     },
     "base_uri": "https://localhost:8080/",
     "height": 187,
     "output_extras": [
      {
       "item_id": 1
      }
     ]
    },
    "colab_type": "code",
    "executionInfo": {
     "elapsed": 815,
     "status": "ok",
     "timestamp": 1522135403267,
     "user": {
      "displayName": "Gaurav Sharma",
      "photoUrl": "//lh3.googleusercontent.com/-RxTlaEjP3Ek/AAAAAAAAAAI/AAAAAAAABDI/ssrDBNDHUcs/s50-c-k-no/photo.jpg",
      "userId": "112710572013370038539"
     },
     "user_tz": -330
    },
    "id": "w36XJ7t6MM5R",
    "outputId": "20d8b663-f502-4567-9977-8564fb31895b"
   },
   "outputs": [
    {
     "name": "stdout",
     "output_type": "stream",
     "text": [
      "<class 'pandas.core.frame.DataFrame'>\n",
      "RangeIndex: 150 entries, 0 to 149\n",
      "Data columns (total 5 columns):\n",
      "sepal-length    150 non-null float64\n",
      "sepal-width     150 non-null float64\n",
      "petal-length    150 non-null float64\n",
      "petal-width     150 non-null float64\n",
      "class           150 non-null int32\n",
      "dtypes: float64(4), int32(1)\n",
      "memory usage: 5.4 KB\n"
     ]
    }
   ],
   "source": [
    "# we also look at data types of all features and target\n",
    "df.info()\n",
    "# data types looks ok. in case you dont feel ok, you need to convert them to \n",
    "# appropriate types like int, float, String, date time, etc.\n",
    "# this will be covered in later articles"
   ]
  },
  {
   "cell_type": "markdown",
   "metadata": {
    "colab_type": "text",
    "id": "nCioEfKwN3JN"
   },
   "source": [
    "Pictures are easy to grasp than just plain numbers. Lets explore plots or graphs now"
   ]
  },
  {
   "cell_type": "code",
   "execution_count": 26,
   "metadata": {
    "colab": {
     "autoexec": {
      "startup": false,
      "wait_interval": 0
     },
     "base_uri": "https://localhost:8080/",
     "height": 347,
     "output_extras": [
      {
       "item_id": 1
      }
     ]
    },
    "colab_type": "code",
    "executionInfo": {
     "elapsed": 858,
     "status": "ok",
     "timestamp": 1522135404657,
     "user": {
      "displayName": "Gaurav Sharma",
      "photoUrl": "//lh3.googleusercontent.com/-RxTlaEjP3Ek/AAAAAAAAAAI/AAAAAAAABDI/ssrDBNDHUcs/s50-c-k-no/photo.jpg",
      "userId": "112710572013370038539"
     },
     "user_tz": -330
    },
    "id": "fbdsLDq_NeMr",
    "outputId": "fed49779-1dd5-43b9-9131-3e740a9ee9cf"
   },
   "outputs": [
    {
     "data": {
      "image/png": "[encoded data removed]",
      "text/plain": [
       "<matplotlib.figure.Figure at 0x25a5d9a57f0>"
      ]
     },
     "metadata": {},
     "output_type": "display_data"
    }
   ],
   "source": [
    "# first plot we look at is box plot for all the numerical features\n",
    "sns.boxplot(data=df)\n",
    "plt.show()"
   ]
  },
  {
   "cell_type": "markdown",
   "metadata": {
    "colab_type": "text",
    "id": "2W710OgyOpSM"
   },
   "source": [
    "Looks much better, right? Plots are always better than just plain numbers"
   ]
  },
  {
   "cell_type": "code",
   "execution_count": 21,
   "metadata": {
    "colab": {
     "autoexec": {
      "startup": false,
      "wait_interval": 0
     },
     "base_uri": "https://localhost:8080/",
     "height": 925,
     "output_extras": [
      {
       "item_id": 1
      }
     ]
    },
    "colab_type": "code",
    "executionInfo": {
     "elapsed": 5369,
     "status": "ok",
     "timestamp": 1522135410698,
     "user": {
      "displayName": "Gaurav Sharma",
      "photoUrl": "//lh3.googleusercontent.com/-RxTlaEjP3Ek/AAAAAAAAAAI/AAAAAAAABDI/ssrDBNDHUcs/s50-c-k-no/photo.jpg",
      "userId": "112710572013370038539"
     },
     "user_tz": -330
    },
    "id": "58AGvbSDOM1w",
    "outputId": "a06f7e83-a01d-4c46-b07b-88af47c377be"
   },
   "outputs": [
    {
     "data": {
      "image/png": "[encoded data removed]",
      "text/plain": [
       "<matplotlib.figure.Figure at 0x25a5c350ef0>"
      ]
     },
     "metadata": {},
     "output_type": "display_data"
    }
   ],
   "source": [
    "# time of finding correlation between features and target, also within features\n",
    "# why within features is a topic for later articles\n",
    "sns.pairplot(df, hue='class')\n",
    "plt.show()"
   ]
  },
  {
   "cell_type": "markdown",
   "metadata": {
    "colab_type": "text",
    "id": "l0G_Zjq8Pem5"
   },
   "source": [
    "Just pair plot can help you classify observations into multiple classes. But what you are looking forward to do is to teach computer and not yourself. So back to numbers :-)"
   ]
  },
  {
   "cell_type": "markdown",
   "metadata": {
    "colab_type": "text",
    "id": "KILVNftTQCD-"
   },
   "source": [
    "There are many more distribution plot classes available, but for later articles."
   ]
  },
  {
   "cell_type": "markdown",
   "metadata": {
    "colab_type": "text",
    "id": "vrlooUg0Q2XE"
   },
   "source": [
    "Time for teaching. Lets train our model."
   ]
  },
  {
   "cell_type": "code",
   "execution_count": 22,
   "metadata": {
    "colab": {
     "autoexec": {
      "startup": false,
      "wait_interval": 0
     }
    },
    "colab_type": "code",
    "id": "mce-lihWO855"
   },
   "outputs": [],
   "source": [
    "# Prepare X and y\n",
    "array = df.values\n",
    "X = array[:,0:4]\n",
    "y = array[:,4]\n",
    "# Split into training and test dataset. 0.3 means 70% is training observations\n",
    "validation_size = 0.30\n",
    "# This is the random seed. So that when you run this code, we are on same \n",
    "# wavelength to discuss the model and results\n",
    "seed = 7\n",
    "# We are using Kfold cross validation to split the dataset and perform training\n",
    "# and testing of the model. I will cover this later.\n",
    "no_of_splits = 10\n",
    "# This is your algorithm and you instantiate and pass it along with data\n",
    "model = skllm.LogisticRegression()\n",
    "\n",
    "# Used for splitting the dataset. Will be expanded in later article\n",
    "kfold = sklms.KFold(n_splits=no_of_splits, random_state=seed)\n",
    "\n",
    "# Here goes everything into the frying pan\n",
    "X_train, X_test, Y_train, Y_test = sklms.train_test_split(\n",
    "    X, y, test_size=validation_size, random_state=seed)\n",
    "\n",
    "# and here comes the output or prediction. in this case we measure accuracy\n",
    "cv_results = sklms.cross_val_score(model, X_train, Y_train, \\\n",
    "                             cv=kfold, scoring='accuracy')"
   ]
  },
  {
   "cell_type": "code",
   "execution_count": 23,
   "metadata": {
    "colab": {
     "autoexec": {
      "startup": false,
      "wait_interval": 0
     },
     "base_uri": "https://localhost:8080/",
     "height": 34,
     "output_extras": [
      {
       "item_id": 1
      }
     ]
    },
    "colab_type": "code",
    "executionInfo": {
     "elapsed": 825,
     "status": "ok",
     "timestamp": 1522135413318,
     "user": {
      "displayName": "Gaurav Sharma",
      "photoUrl": "//lh3.googleusercontent.com/-RxTlaEjP3Ek/AAAAAAAAAAI/AAAAAAAABDI/ssrDBNDHUcs/s50-c-k-no/photo.jpg",
      "userId": "112710572013370038539"
     },
     "user_tz": -330
    },
    "id": "uyJ6U92GRI5r",
    "outputId": "1e0f7f7c-7603-4b7d-80b4-7a67fead5e14"
   },
   "outputs": [
    {
     "name": "stdout",
     "output_type": "stream",
     "text": [
      "Logistic regression:: 0.970909 (0.044499)\n"
     ]
    }
   ],
   "source": [
    "msg = \"%s: %f (%f)\" % (\"Logistic regression:\", cv_results.mean(), cv_results.std())\n",
    "print(msg)"
   ]
  },
  {
   "cell_type": "markdown",
   "metadata": {
    "colab_type": "text",
    "id": "9iBPDeH-UbAE"
   },
   "source": [
    "Are we done? Not yet. We want to look at our predictions also."
   ]
  },
  {
   "cell_type": "code",
   "execution_count": 24,
   "metadata": {
    "colab": {
     "autoexec": {
      "startup": false,
      "wait_interval": 0
     },
     "base_uri": "https://localhost:8080/",
     "height": 51,
     "output_extras": [
      {
       "item_id": 1
      }
     ]
    },
    "colab_type": "code",
    "executionInfo": {
     "elapsed": 835,
     "status": "ok",
     "timestamp": 1522135414682,
     "user": {
      "displayName": "Gaurav Sharma",
      "photoUrl": "//lh3.googleusercontent.com/-RxTlaEjP3Ek/AAAAAAAAAAI/AAAAAAAABDI/ssrDBNDHUcs/s50-c-k-no/photo.jpg",
      "userId": "112710572013370038539"
     },
     "user_tz": -330
    },
    "id": "yeUOtbvWSqTG",
    "outputId": "0f258671-84b0-4934-d1d3-806b523191ca"
   },
   "outputs": [
    {
     "name": "stdout",
     "output_type": "stream",
     "text": [
      "[2. 1. 0. 1. 1. 0. 1. 1. 0. 1. 2. 1. 0. 2. 0. 1. 2. 2. 0. 0. 1. 2. 1. 1.\n",
      " 2. 1. 1. 1. 2. 2. 2. 1. 0. 2. 1. 0. 0. 0. 0. 2. 2. 1. 2. 2. 1.]\n"
     ]
    }
   ],
   "source": [
    "# Here we use another algorithm to predict\n",
    "knn = KNeighborsClassifier()\n",
    "# we train our model\n",
    "knn.fit(X_train, Y_train)\n",
    "# predict on our test observations\n",
    "predictions = knn.predict(X_test)\n",
    "# and here are our predictions\n",
    "print(predictions)"
   ]
  },
  {
   "cell_type": "markdown",
   "metadata": {
    "colab_type": "text",
    "id": "9r7Idy_-VR4J"
   },
   "source": [
    "So next time we can use this model to predict on new data. We just need input features to predict. This is our magic formula for success."
   ]
  }
 ],
 "metadata": {
  "colab": {
   "default_view": {},
   "name": "MachineLearning-1.ipynb",
   "provenance": [],
   "version": "0.3.2",
   "views": {}
  },
  "kernelspec": {
   "display_name": "Python 3",
   "language": "python",
   "name": "python3"
  },
  "language_info": {
   "codemirror_mode": {
    "name": "ipython",
    "version": 3
   },
   "file_extension": ".py",
   "mimetype": "text/x-python",
   "name": "python",
   "nbconvert_exporter": "python",
   "pygments_lexer": "ipython3",
   "version": "3.6.4"
  }
 },
 "nbformat": 4,
 "nbformat_minor": 1
}
